{
 "cells": [
  {
   "cell_type": "markdown",
   "metadata": {},
   "source": [
    "## 5.1 Contents<a id='5.1_Contents'></a>\n",
    "* [5 Modeling](#5_Modeling)\n",
    "  * [5.1 Contents](#5.1_Contents)\n",
    "  * [5.2 Introduction](#5.2_Introduction)\n",
    "  * [5.3 Imports](#5.3_Imports)\n",
    "  * [5.4 Cox model prediction](#5.4_Cox_model_prediction)\n",
    "    * [5.4.1 Survival age hazard ratio prediction](#5.4.1_Survival_age_hazard_ratio_prediction)\n",
    "    * [5.4.2 Visualize survival curve](#5.4.2_Visualize_survival_curve)\n",
    "    * [5.4.3 Visualize survival probabilities of default](#5.4.3_Visualize_survival_probabilities_of_default)\n",
    "    * [5.4.4 Visualize partial effects on outcome](#5.4.4_Visualize_partial_effects_on_outcome)"
   ]
  },
  {
   "cell_type": "markdown",
   "metadata": {},
   "source": [
    "## 5.2 Introduction<a id='5.2_Introduction'></a>"
   ]
  },
  {
   "cell_type": "markdown",
   "metadata": {},
   "source": [
    "The following models were implemented as part of the previous step on preprocessing and training data development:\n",
    "1. Random Forest\n",
    "2. Cox survival model\n",
    "\n",
    "Based on the model performance metrics, the Cox survival model was determined to be a better model to proceed with. \n",
    "In this modeling step, a pipeline is setup to handle preprocessing the loan test data. The Cox model is used to run predictions on the test data."
   ]
  },
  {
   "cell_type": "markdown",
   "metadata": {},
   "source": [
    "## 5.3 Imports<a id='5.3_Imports'></a>"
   ]
  },
  {
   "cell_type": "code",
   "execution_count": 1,
   "metadata": {},
   "outputs": [],
   "source": [
    "import pandas as pd\n",
    "import numpy as np\n",
    "import matplotlib.pyplot as plt\n",
    "import seaborn as sns\n",
    "from sklearn import preprocessing \n",
    "import lifelines\n",
    "from lifelines import CoxPHFitter\n",
    "from sklearn.compose import ColumnTransformer\n",
    "from sklearn.pipeline import Pipeline\n",
    "import pickle as pk\n",
    "pd.options.display.float_format = '{:.2f}'.format\n",
    "pd.set_option('display.max_columns', None)"
   ]
  },
  {
   "cell_type": "markdown",
   "metadata": {},
   "source": [
    "## 5.4 Cox model prediction<a id='5.4_Cox_model_prediction'></a>"
   ]
  },
  {
   "cell_type": "markdown",
   "metadata": {},
   "source": [
    "Read in loan test data, state/bank default rates, and Cox model saved from previous step. Implement a sample model prediction pipeline for data preprocessing/encoding loan test data. Additional preprocessing steps such as updating defaults, populating missing values with appropriate values like mean, median, mode, etc would require these default values to be saved as part of the model training pipeline (the model training pipeline is not being implemented here). The loan test data we are using here already has these defaults populated as part of the prior step."
   ]
  },
  {
   "cell_type": "code",
   "execution_count": 2,
   "metadata": {},
   "outputs": [
    {
     "name": "stderr",
     "output_type": "stream",
     "text": [
      "C:\\Users\\rohan\\Anaconda3\\lib\\site-packages\\ipykernel_launcher.py:7: SettingWithCopyWarning: \n",
      "A value is trying to be set on a copy of a slice from a DataFrame\n",
      "\n",
      "See the caveats in the documentation: https://pandas.pydata.org/pandas-docs/stable/user_guide/indexing.html#returning-a-view-versus-a-copy\n",
      "  import sys\n",
      "C:\\Users\\rohan\\Anaconda3\\lib\\site-packages\\ipykernel_launcher.py:9: SettingWithCopyWarning: \n",
      "A value is trying to be set on a copy of a slice from a DataFrame\n",
      "\n",
      "See the caveats in the documentation: https://pandas.pydata.org/pandas-docs/stable/user_guide/indexing.html#returning-a-view-versus-a-copy\n",
      "  if __name__ == '__main__':\n"
     ]
    }
   ],
   "source": [
    "#read in loan test data features for Cox model prediction (survival age, hazard ratios)\n",
    "df_loan=pd.read_csv('../data/processed/X_test.csv',index_col=0)\n",
    "\n",
    "#read in state and bank default rates saved from training dataset as part of model training\n",
    "default_rates_df=pd.read_csv('../data/state_bank_default_rates.csv',index_col=0).reset_index().drop(columns=['index'])\n",
    "state_default_rate_df=default_rates_df[['Property_State','state_default_rate']]\n",
    "state_default_rate_df.drop_duplicates(inplace=True)\n",
    "bank_default_rate_df=default_rates_df[['Servicer_Name','bank_default_rate']]\n",
    "bank_default_rate_df.drop_duplicates(inplace=True)\n",
    "#load the saved cox model\n",
    "model=pk.load(open('../models/cox_model.pkl','rb'))\n",
    "#pipeline to encode categorical features\n",
    "categorical_features=['First_Time_Homebuyer_Flag','Prepayment_Penalty_Mortgage_(PPM)_Flag','Property_Type','Loan_Purpose','HARP_Indicator']\n",
    "\n",
    "categorical_features1=['Occupancy_Status','Channel']\n",
    "\n",
    "transformer = ColumnTransformer(transformers=[('n', preprocessing.OneHotEncoder(), categorical_features1),('c', preprocessing.OrdinalEncoder(), categorical_features)])\n",
    "\n",
    "preprocess_pipeline = Pipeline(steps=\n",
    "                    [\n",
    "                        ('preprocess', transformer),\n",
    "                    ]\n",
    "                   )\n",
    "\n",
    "encoded_df=pd.DataFrame(preprocess_pipeline.fit_transform(df_loan),columns=['Occupancy_Status_I','Occupancy_Status_P','Occupancy_Status_S','Channel_B','Channel_C','Channel_R','Channel_T','First_Time_Homebuyer_Flag','Prepayment_Penalty_Mortgage_(PPM)_Flag','Property_Type','Loan_Purpose','HARP_Indicator'])\n",
    "#drop unneeded columns as determined in EDA\n",
    "drop_col_df=df_loan.drop(columns=['First_Payment_Date','Maturity_Date','Current_Loan_Delinquency_Status','Zero_Balance_Removal_UPB','Zero_Balance_Effective_Date','Monthly_Reporting_Period','Seller_Name','Metropolitan_Statistical_Area_(MSA)_Or_Metropolitan_Division','Postal_Code','Occupancy_Status','Channel'],errors='ignore').reset_index().drop(columns=['index'])\n",
    "drop_col_df=drop_col_df[drop_col_df.columns.difference(encoded_df.columns)]\n",
    "#Merge in the encoded columns\n",
    "X_df=pd.concat([encoded_df,drop_col_df],axis=1)\n",
    "#Merge in bank/state default rates\n",
    "X_df=X_df.merge(bank_default_rate_df, how='left', on='Servicer_Name').drop(columns=['Servicer_Name'])\n",
    "X_df=X_df.merge(state_default_rate_df, how='left',on='Property_State').drop(columns=['Property_State'])"
   ]
  },
  {
   "cell_type": "markdown",
   "metadata": {},
   "source": [
    "Reorder the feature columns based on the trained model coefficients. The original ordering of feature columns gets changed as part of feature encoding. The original order is helpful to compute hazard ratios later on. "
   ]
  },
  {
   "cell_type": "code",
   "execution_count": 3,
   "metadata": {},
   "outputs": [],
   "source": [
    "X_df = X_df.reindex(columns=np.array(model.summary['coef'].index))"
   ]
  },
  {
   "cell_type": "markdown",
   "metadata": {},
   "source": [
    "Reviewing trained model coefficients."
   ]
  },
  {
   "cell_type": "code",
   "execution_count": 5,
   "metadata": {},
   "outputs": [
    {
     "data": {
      "text/plain": [
       "covariate\n",
       "state_default_rate                        0.97\n",
       "bank_default_rate                         0.34\n",
       "Channel_B                                 0.14\n",
       "Current_Interest_Rate                     0.13\n",
       "Channel_C                                 0.10\n",
       "Occupancy_Status_P                        0.05\n",
       "Loan_Purpose                              0.05\n",
       "Number_of_Borrowers                       0.04\n",
       "Remaining_Months_to_Legal_Maturity        0.01\n",
       "Mortgage_Insurance_Percentage_(MI_%)      0.00\n",
       "Credit_Score                              0.00\n",
       "Original_UPB                              0.00\n",
       "Current_Actual_UPB                       -0.00\n",
       "Interest_Bearing_UPB                     -0.00\n",
       "Current_Deferred_UPB                     -0.00\n",
       "Original_Loan-to-Value_(LTV)             -0.00\n",
       "Original_Debt-to-Income_(DTI)_Ratio      -0.00\n",
       "Original_Interest_Rate                   -0.00\n",
       "Original_Combined_Loan-to-Value_(CLTV)   -0.00\n",
       "Property_Type                            -0.01\n",
       "Channel_R                                -0.01\n",
       "Original_Loan_Term                       -0.01\n",
       "First_Time_Homebuyer_Flag                -0.03\n",
       "Occupancy_Status_I                       -0.04\n",
       "Occupancy_Status_S                       -0.07\n",
       "Number_of_Units                          -0.10\n",
       "MSA                                      -0.11\n",
       "Channel_T                                -0.14\n",
       "HARP_Indicator                           -0.16\n",
       "Prepayment_Penalty_Mortgage_(PPM)_Flag   -0.28\n",
       "Name: coef, dtype: float64"
      ]
     },
     "execution_count": 5,
     "metadata": {},
     "output_type": "execute_result"
    }
   ],
   "source": [
    "model.summary['coef'].sort_values(ascending=False)"
   ]
  },
  {
   "cell_type": "markdown",
   "metadata": {},
   "source": [
    "### 5.4.1 Survival age hazard ratio prediction<a id='5.4.1_Survival_age_hazard_ratio_prediction'></a>"
   ]
  },
  {
   "cell_type": "markdown",
   "metadata": {},
   "source": [
    "Running model predictions to compute/predict survival ages based on test data features."
   ]
  },
  {
   "cell_type": "code",
   "execution_count": 6,
   "metadata": {},
   "outputs": [],
   "source": [
    "y_pred=model.predict_expectation(X_df)"
   ]
  },
  {
   "cell_type": "markdown",
   "metadata": {},
   "source": [
    "Running model predictions to compute/predict survival probabilities based on test data features."
   ]
  },
  {
   "cell_type": "code",
   "execution_count": null,
   "metadata": {},
   "outputs": [],
   "source": [
    "surv_df=model.predict_survival_function(X_df,np.arange(0,296,1)).T"
   ]
  },
  {
   "cell_type": "markdown",
   "metadata": {},
   "source": [
    "Compute model predictions (hazard ratios) and visualizing survival curve."
   ]
  },
  {
   "cell_type": "code",
   "execution_count": 8,
   "metadata": {},
   "outputs": [],
   "source": [
    "features=X_df.values\n",
    "coefficients=np.array(model.summary['coef'])\n",
    "outcome=np.dot(features,coefficients)\n",
    "outcome=np.array(outcome)\n",
    "outcome_exp=np.exp(outcome)"
   ]
  },
  {
   "cell_type": "code",
   "execution_count": 9,
   "metadata": {},
   "outputs": [],
   "source": [
    "m=model.baseline_hazard_\n",
    "h=np.array(m['baseline hazard'])"
   ]
  },
  {
   "cell_type": "code",
   "execution_count": 10,
   "metadata": {},
   "outputs": [],
   "source": [
    "from scipy import interpolate\n",
    "probs=[]\n",
    "for i in range(0,len(y_pred)):\n",
    "    x=y_pred[i]\n",
    "    q=interpolate.interp1d([int(np.floor(x)),int(np.ceil(x))],[h[int(np.floor(x))],h[int(np.ceil(x))]],kind='linear')\n",
    "    probs.append(q(x)*outcome_exp[i])"
   ]
  },
  {
   "cell_type": "markdown",
   "metadata": {},
   "source": [
    "### 5.4.2 Visualize survival curve<a id='5.4.2_Visualize_survival_curve'></a>"
   ]
  },
  {
   "cell_type": "code",
   "execution_count": 45,
   "metadata": {},
   "outputs": [
    {
     "data": {
      "text/plain": [
       "<AxesSubplot:title={'center':'Hazard ratios over time'}, xlabel='Survival age in months', ylabel='Hazard ratio'>"
      ]
     },
     "execution_count": 45,
     "metadata": {},
     "output_type": "execute_result"
    },
    {
     "data": {
      "image/png": "[encoded data removed]",
      "text/plain": [
       "<Figure size 432x288 with 1 Axes>"
      ]
     },
     "metadata": {},
     "output_type": "display_data"
    }
   ],
   "source": [
    "plt.title(\"Hazard ratios over time\")\n",
    "plt.ylabel(\"Hazard ratio\")\n",
    "plt.xlabel(\"Survival age in months\")\n",
    "sns.lineplot(x=y_pred,y=probs,color='green')"
   ]
  },
  {
   "cell_type": "markdown",
   "metadata": {},
   "source": [
    "The survival curve graph above shows the risk (hazard ratio) as predicted by the model for the various survival ages (months). As shown, the risk is higher in the initial period of the loan."
   ]
  },
  {
   "cell_type": "code",
   "execution_count": 13,
   "metadata": {},
   "outputs": [],
   "source": [
    "#Read in loan test data target defaults/non-defaults\n",
    "y_df=pd.read_csv('../data/processed/y_test.csv',index_col=0)"
   ]
  },
  {
   "cell_type": "code",
   "execution_count": 14,
   "metadata": {},
   "outputs": [
    {
     "data": {
      "text/html": [
       "<div>\n",
       "<style scoped>\n",
       "    .dataframe tbody tr th:only-of-type {\n",
       "        vertical-align: middle;\n",
       "    }\n",
       "\n",
       "    .dataframe tbody tr th {\n",
       "        vertical-align: top;\n",
       "    }\n",
       "\n",
       "    .dataframe thead th {\n",
       "        text-align: right;\n",
       "    }\n",
       "</style>\n",
       "<table border=\"1\" class=\"dataframe\">\n",
       "  <thead>\n",
       "    <tr style=\"text-align: right;\">\n",
       "      <th></th>\n",
       "      <th>default_status</th>\n",
       "      <th>Loan_Age</th>\n",
       "    </tr>\n",
       "  </thead>\n",
       "  <tbody>\n",
       "    <tr>\n",
       "      <th>372454</th>\n",
       "      <td>1</td>\n",
       "      <td>32</td>\n",
       "    </tr>\n",
       "    <tr>\n",
       "      <th>398158</th>\n",
       "      <td>2</td>\n",
       "      <td>72</td>\n",
       "    </tr>\n",
       "    <tr>\n",
       "      <th>984365</th>\n",
       "      <td>2</td>\n",
       "      <td>23</td>\n",
       "    </tr>\n",
       "    <tr>\n",
       "      <th>780854</th>\n",
       "      <td>2</td>\n",
       "      <td>89</td>\n",
       "    </tr>\n",
       "    <tr>\n",
       "      <th>438520</th>\n",
       "      <td>2</td>\n",
       "      <td>21</td>\n",
       "    </tr>\n",
       "  </tbody>\n",
       "</table>\n",
       "</div>"
      ],
      "text/plain": [
       "        default_status  Loan_Age\n",
       "372454               1        32\n",
       "398158               2        72\n",
       "984365               2        23\n",
       "780854               2        89\n",
       "438520               2        21"
      ]
     },
     "execution_count": 14,
     "metadata": {},
     "output_type": "execute_result"
    }
   ],
   "source": [
    "y_df.head()"
   ]
  },
  {
   "cell_type": "code",
   "execution_count": 23,
   "metadata": {},
   "outputs": [],
   "source": [
    "#Merging in test data features, target\n",
    "test_pred_df=pd.concat([X_df,y_df.reset_index()],axis=1).drop(columns=['index'])"
   ]
  },
  {
   "cell_type": "code",
   "execution_count": 24,
   "metadata": {},
   "outputs": [
    {
     "data": {
      "text/plain": [
       "2    184199\n",
       "0     57560\n",
       "1      3241\n",
       "Name: default_status, dtype: int64"
      ]
     },
     "execution_count": 24,
     "metadata": {},
     "output_type": "execute_result"
    }
   ],
   "source": [
    "test_pred_df['default_status'].value_counts()"
   ]
  },
  {
   "cell_type": "code",
   "execution_count": 25,
   "metadata": {},
   "outputs": [],
   "source": [
    "#Merging in model survival age predictions\n",
    "test_pred_df['survival']=y_pred"
   ]
  },
  {
   "cell_type": "code",
   "execution_count": 26,
   "metadata": {},
   "outputs": [
    {
     "data": {
      "text/html": [
       "<div>\n",
       "<style scoped>\n",
       "    .dataframe tbody tr th:only-of-type {\n",
       "        vertical-align: middle;\n",
       "    }\n",
       "\n",
       "    .dataframe tbody tr th {\n",
       "        vertical-align: top;\n",
       "    }\n",
       "\n",
       "    .dataframe thead th {\n",
       "        text-align: right;\n",
       "    }\n",
       "</style>\n",
       "<table border=\"1\" class=\"dataframe\">\n",
       "  <thead>\n",
       "    <tr style=\"text-align: right;\">\n",
       "      <th></th>\n",
       "      <th>Credit_Score</th>\n",
       "      <th>First_Time_Homebuyer_Flag</th>\n",
       "      <th>Mortgage_Insurance_Percentage_(MI_%)</th>\n",
       "      <th>Number_of_Units</th>\n",
       "      <th>Original_Combined_Loan-to-Value_(CLTV)</th>\n",
       "      <th>Original_Debt-to-Income_(DTI)_Ratio</th>\n",
       "      <th>Original_UPB</th>\n",
       "      <th>Original_Loan-to-Value_(LTV)</th>\n",
       "      <th>Original_Interest_Rate</th>\n",
       "      <th>Prepayment_Penalty_Mortgage_(PPM)_Flag</th>\n",
       "      <th>Property_Type</th>\n",
       "      <th>Loan_Purpose</th>\n",
       "      <th>Original_Loan_Term</th>\n",
       "      <th>Number_of_Borrowers</th>\n",
       "      <th>HARP_Indicator</th>\n",
       "      <th>Current_Actual_UPB</th>\n",
       "      <th>Remaining_Months_to_Legal_Maturity</th>\n",
       "      <th>Current_Interest_Rate</th>\n",
       "      <th>Current_Deferred_UPB</th>\n",
       "      <th>Interest_Bearing_UPB</th>\n",
       "      <th>MSA</th>\n",
       "      <th>Occupancy_Status_I</th>\n",
       "      <th>Occupancy_Status_P</th>\n",
       "      <th>Occupancy_Status_S</th>\n",
       "      <th>Channel_B</th>\n",
       "      <th>Channel_C</th>\n",
       "      <th>Channel_R</th>\n",
       "      <th>Channel_T</th>\n",
       "      <th>bank_default_rate</th>\n",
       "      <th>state_default_rate</th>\n",
       "      <th>default_status</th>\n",
       "      <th>Loan_Age</th>\n",
       "      <th>survival</th>\n",
       "    </tr>\n",
       "  </thead>\n",
       "  <tbody>\n",
       "    <tr>\n",
       "      <th>0</th>\n",
       "      <td>746</td>\n",
       "      <td>0.00</td>\n",
       "      <td>0.00</td>\n",
       "      <td>2</td>\n",
       "      <td>72.00</td>\n",
       "      <td>48.00</td>\n",
       "      <td>335000.00</td>\n",
       "      <td>72.00</td>\n",
       "      <td>6.62</td>\n",
       "      <td>0.00</td>\n",
       "      <td>4.00</td>\n",
       "      <td>0.00</td>\n",
       "      <td>360</td>\n",
       "      <td>1</td>\n",
       "      <td>0.00</td>\n",
       "      <td>0.00</td>\n",
       "      <td>328</td>\n",
       "      <td>6.62</td>\n",
       "      <td>0.00</td>\n",
       "      <td>0.00</td>\n",
       "      <td>1</td>\n",
       "      <td>0.00</td>\n",
       "      <td>1.00</td>\n",
       "      <td>0.00</td>\n",
       "      <td>0.00</td>\n",
       "      <td>0.00</td>\n",
       "      <td>0.00</td>\n",
       "      <td>1.00</td>\n",
       "      <td>1.69</td>\n",
       "      <td>1.58</td>\n",
       "      <td>1</td>\n",
       "      <td>32</td>\n",
       "      <td>32.37</td>\n",
       "    </tr>\n",
       "    <tr>\n",
       "      <th>1</th>\n",
       "      <td>704</td>\n",
       "      <td>0.00</td>\n",
       "      <td>0.00</td>\n",
       "      <td>1</td>\n",
       "      <td>70.00</td>\n",
       "      <td>25.00</td>\n",
       "      <td>270000.00</td>\n",
       "      <td>70.00</td>\n",
       "      <td>5.88</td>\n",
       "      <td>0.00</td>\n",
       "      <td>4.00</td>\n",
       "      <td>0.00</td>\n",
       "      <td>360</td>\n",
       "      <td>1</td>\n",
       "      <td>0.00</td>\n",
       "      <td>0.00</td>\n",
       "      <td>288</td>\n",
       "      <td>5.88</td>\n",
       "      <td>0.00</td>\n",
       "      <td>0.00</td>\n",
       "      <td>1</td>\n",
       "      <td>0.00</td>\n",
       "      <td>1.00</td>\n",
       "      <td>0.00</td>\n",
       "      <td>0.00</td>\n",
       "      <td>0.00</td>\n",
       "      <td>0.00</td>\n",
       "      <td>1.00</td>\n",
       "      <td>1.97</td>\n",
       "      <td>1.40</td>\n",
       "      <td>2</td>\n",
       "      <td>72</td>\n",
       "      <td>48.92</td>\n",
       "    </tr>\n",
       "    <tr>\n",
       "      <th>2</th>\n",
       "      <td>679</td>\n",
       "      <td>0.00</td>\n",
       "      <td>0.00</td>\n",
       "      <td>1</td>\n",
       "      <td>79.00</td>\n",
       "      <td>35.00</td>\n",
       "      <td>422000.00</td>\n",
       "      <td>79.00</td>\n",
       "      <td>5.50</td>\n",
       "      <td>0.00</td>\n",
       "      <td>4.00</td>\n",
       "      <td>1.00</td>\n",
       "      <td>360</td>\n",
       "      <td>1</td>\n",
       "      <td>0.00</td>\n",
       "      <td>0.00</td>\n",
       "      <td>337</td>\n",
       "      <td>5.50</td>\n",
       "      <td>0.00</td>\n",
       "      <td>0.00</td>\n",
       "      <td>1</td>\n",
       "      <td>0.00</td>\n",
       "      <td>1.00</td>\n",
       "      <td>0.00</td>\n",
       "      <td>0.00</td>\n",
       "      <td>0.00</td>\n",
       "      <td>1.00</td>\n",
       "      <td>0.00</td>\n",
       "      <td>0.55</td>\n",
       "      <td>1.46</td>\n",
       "      <td>2</td>\n",
       "      <td>23</td>\n",
       "      <td>36.72</td>\n",
       "    </tr>\n",
       "    <tr>\n",
       "      <th>3</th>\n",
       "      <td>714</td>\n",
       "      <td>0.00</td>\n",
       "      <td>0.00</td>\n",
       "      <td>1</td>\n",
       "      <td>96.00</td>\n",
       "      <td>45.00</td>\n",
       "      <td>187000.00</td>\n",
       "      <td>96.00</td>\n",
       "      <td>4.00</td>\n",
       "      <td>0.00</td>\n",
       "      <td>4.00</td>\n",
       "      <td>1.00</td>\n",
       "      <td>180</td>\n",
       "      <td>1</td>\n",
       "      <td>1.00</td>\n",
       "      <td>0.00</td>\n",
       "      <td>91</td>\n",
       "      <td>4.00</td>\n",
       "      <td>0.00</td>\n",
       "      <td>0.00</td>\n",
       "      <td>1</td>\n",
       "      <td>0.00</td>\n",
       "      <td>1.00</td>\n",
       "      <td>0.00</td>\n",
       "      <td>0.00</td>\n",
       "      <td>0.00</td>\n",
       "      <td>1.00</td>\n",
       "      <td>0.00</td>\n",
       "      <td>0.87</td>\n",
       "      <td>1.56</td>\n",
       "      <td>2</td>\n",
       "      <td>89</td>\n",
       "      <td>97.84</td>\n",
       "    </tr>\n",
       "    <tr>\n",
       "      <th>4</th>\n",
       "      <td>791</td>\n",
       "      <td>1.00</td>\n",
       "      <td>0.00</td>\n",
       "      <td>1</td>\n",
       "      <td>36.00</td>\n",
       "      <td>39.00</td>\n",
       "      <td>150000.00</td>\n",
       "      <td>36.00</td>\n",
       "      <td>6.38</td>\n",
       "      <td>0.00</td>\n",
       "      <td>0.00</td>\n",
       "      <td>2.00</td>\n",
       "      <td>360</td>\n",
       "      <td>2</td>\n",
       "      <td>0.00</td>\n",
       "      <td>0.00</td>\n",
       "      <td>339</td>\n",
       "      <td>6.38</td>\n",
       "      <td>0.00</td>\n",
       "      <td>0.00</td>\n",
       "      <td>0</td>\n",
       "      <td>0.00</td>\n",
       "      <td>1.00</td>\n",
       "      <td>0.00</td>\n",
       "      <td>0.00</td>\n",
       "      <td>0.00</td>\n",
       "      <td>0.00</td>\n",
       "      <td>1.00</td>\n",
       "      <td>1.69</td>\n",
       "      <td>1.58</td>\n",
       "      <td>2</td>\n",
       "      <td>21</td>\n",
       "      <td>26.51</td>\n",
       "    </tr>\n",
       "  </tbody>\n",
       "</table>\n",
       "</div>"
      ],
      "text/plain": [
       "   Credit_Score  First_Time_Homebuyer_Flag  \\\n",
       "0           746                       0.00   \n",
       "1           704                       0.00   \n",
       "2           679                       0.00   \n",
       "3           714                       0.00   \n",
       "4           791                       1.00   \n",
       "\n",
       "   Mortgage_Insurance_Percentage_(MI_%)  Number_of_Units  \\\n",
       "0                                  0.00                2   \n",
       "1                                  0.00                1   \n",
       "2                                  0.00                1   \n",
       "3                                  0.00                1   \n",
       "4                                  0.00                1   \n",
       "\n",
       "   Original_Combined_Loan-to-Value_(CLTV)  \\\n",
       "0                                   72.00   \n",
       "1                                   70.00   \n",
       "2                                   79.00   \n",
       "3                                   96.00   \n",
       "4                                   36.00   \n",
       "\n",
       "   Original_Debt-to-Income_(DTI)_Ratio  Original_UPB  \\\n",
       "0                                48.00     335000.00   \n",
       "1                                25.00     270000.00   \n",
       "2                                35.00     422000.00   \n",
       "3                                45.00     187000.00   \n",
       "4                                39.00     150000.00   \n",
       "\n",
       "   Original_Loan-to-Value_(LTV)  Original_Interest_Rate  \\\n",
       "0                         72.00                    6.62   \n",
       "1                         70.00                    5.88   \n",
       "2                         79.00                    5.50   \n",
       "3                         96.00                    4.00   \n",
       "4                         36.00                    6.38   \n",
       "\n",
       "   Prepayment_Penalty_Mortgage_(PPM)_Flag  Property_Type  Loan_Purpose  \\\n",
       "0                                    0.00           4.00          0.00   \n",
       "1                                    0.00           4.00          0.00   \n",
       "2                                    0.00           4.00          1.00   \n",
       "3                                    0.00           4.00          1.00   \n",
       "4                                    0.00           0.00          2.00   \n",
       "\n",
       "   Original_Loan_Term  Number_of_Borrowers  HARP_Indicator  \\\n",
       "0                 360                    1            0.00   \n",
       "1                 360                    1            0.00   \n",
       "2                 360                    1            0.00   \n",
       "3                 180                    1            1.00   \n",
       "4                 360                    2            0.00   \n",
       "\n",
       "   Current_Actual_UPB  Remaining_Months_to_Legal_Maturity  \\\n",
       "0                0.00                                 328   \n",
       "1                0.00                                 288   \n",
       "2                0.00                                 337   \n",
       "3                0.00                                  91   \n",
       "4                0.00                                 339   \n",
       "\n",
       "   Current_Interest_Rate  Current_Deferred_UPB  Interest_Bearing_UPB  MSA  \\\n",
       "0                   6.62                  0.00                  0.00    1   \n",
       "1                   5.88                  0.00                  0.00    1   \n",
       "2                   5.50                  0.00                  0.00    1   \n",
       "3                   4.00                  0.00                  0.00    1   \n",
       "4                   6.38                  0.00                  0.00    0   \n",
       "\n",
       "   Occupancy_Status_I  Occupancy_Status_P  Occupancy_Status_S  Channel_B  \\\n",
       "0                0.00                1.00                0.00       0.00   \n",
       "1                0.00                1.00                0.00       0.00   \n",
       "2                0.00                1.00                0.00       0.00   \n",
       "3                0.00                1.00                0.00       0.00   \n",
       "4                0.00                1.00                0.00       0.00   \n",
       "\n",
       "   Channel_C  Channel_R  Channel_T  bank_default_rate  state_default_rate  \\\n",
       "0       0.00       0.00       1.00               1.69                1.58   \n",
       "1       0.00       0.00       1.00               1.97                1.40   \n",
       "2       0.00       1.00       0.00               0.55                1.46   \n",
       "3       0.00       1.00       0.00               0.87                1.56   \n",
       "4       0.00       0.00       1.00               1.69                1.58   \n",
       "\n",
       "   default_status  Loan_Age  survival  \n",
       "0               1        32     32.37  \n",
       "1               2        72     48.92  \n",
       "2               2        23     36.72  \n",
       "3               2        89     97.84  \n",
       "4               2        21     26.51  "
      ]
     },
     "execution_count": 26,
     "metadata": {},
     "output_type": "execute_result"
    }
   ],
   "source": [
    "test_pred_df.head()"
   ]
  },
  {
   "cell_type": "code",
   "execution_count": 35,
   "metadata": {},
   "outputs": [],
   "source": [
    "#subset dataframe to just defaults\n",
    "test_pred_defaults_df=test_pred_df[test_pred_df['default_status']==1]"
   ]
  },
  {
   "cell_type": "code",
   "execution_count": 36,
   "metadata": {},
   "outputs": [
    {
     "data": {
      "text/plain": [
       "3241"
      ]
     },
     "execution_count": 36,
     "metadata": {},
     "output_type": "execute_result"
    }
   ],
   "source": [
    "len(test_pred_defaults_df['survival'])"
   ]
  },
  {
   "cell_type": "code",
   "execution_count": 38,
   "metadata": {},
   "outputs": [],
   "source": [
    "#Generating lists of loan age and survival probabilities for visualization\n",
    "x_val=[]\n",
    "y_val=[]\n",
    "for i in range(0,3241):\n",
    "    x_val.append(test_pred_defaults_df['Loan_Age'][test_pred_defaults_df.index[i]])\n",
    "    y_val.append(surv_df[test_pred_defaults_df['Loan_Age'][test_pred_defaults_df.index[i]]][test_pred_defaults_df.index[i]])"
   ]
  },
  {
   "cell_type": "markdown",
   "metadata": {},
   "source": [
    "### 5.4.3 Visualize survival probabilities of default<a id='5.4.3_Visualize_survival_probabilities_of_default'></a>"
   ]
  },
  {
   "cell_type": "code",
   "execution_count": 57,
   "metadata": {},
   "outputs": [
    {
     "name": "stderr",
     "output_type": "stream",
     "text": [
      "C:\\Users\\rohan\\Anaconda3\\lib\\site-packages\\seaborn\\_decorators.py:43: FutureWarning: Pass the following variables as keyword args: x, y. From version 0.12, the only valid positional argument will be `data`, and passing other arguments without an explicit keyword will result in an error or misinterpretation.\n",
      "  FutureWarning\n"
     ]
    },
    {
     "data": {
      "text/plain": [
       "Text(0.5, 0, 'Loan Age in months')"
      ]
     },
     "execution_count": 57,
     "metadata": {},
     "output_type": "execute_result"
    },
    {
     "data": {
      "image/png": "[encoded data removed]",
      "text/plain": [
       "<Figure size 432x288 with 1 Axes>"
      ]
     },
     "metadata": {},
     "output_type": "display_data"
    }
   ],
   "source": [
    "sns.scatterplot(x_val,y_val)\n",
    "plt.title('Survival probabilities for defaults')\n",
    "plt.ylabel(\"Survival probabilty\")\n",
    "plt.xlabel(\"Loan Age in months\")"
   ]
  },
  {
   "cell_type": "markdown",
   "metadata": {},
   "source": [
    "The graph above plots survival probabilities against loan age for defaults. As predicted by the model, cluster of defaults are in the region of lower survival probability."
   ]
  },
  {
   "cell_type": "code",
   "execution_count": 47,
   "metadata": {},
   "outputs": [
    {
     "name": "stdout",
     "output_type": "stream",
     "text": [
      "10.625 2.0 6.25\n"
     ]
    }
   ],
   "source": [
    "#computing min, median, and max current interest rates in the test data. These values will be used to show the partial effects of current interest rate on the model outcome. \n",
    "print(test_pred_df['Current_Interest_Rate'].max(),test_pred_df['Current_Interest_Rate'].min(),np.median(test_pred_df['Current_Interest_Rate']))"
   ]
  },
  {
   "cell_type": "markdown",
   "metadata": {},
   "source": [
    "### 5.4.4 Visualize partial effects on outcome<a id='5.4.4_Visualize_partial_effects_on_outcome'></a>"
   ]
  },
  {
   "cell_type": "code",
   "execution_count": 49,
   "metadata": {},
   "outputs": [
    {
     "data": {
      "text/plain": [
       "Text(0.5, 1.0, 'Partial effects of interest rate on model outcome')"
      ]
     },
     "execution_count": 49,
     "metadata": {},
     "output_type": "execute_result"
    },
    {
     "data": {
      "image/png": "[encoded data removed]",
      "text/plain": [
       "<Figure size 432x288 with 1 Axes>"
      ]
     },
     "metadata": {},
     "output_type": "display_data"
    }
   ],
   "source": [
    "model.plot_partial_effects_on_outcome(covariates='Current_Interest_Rate', values=[10.625,2.0,6.25], cmap='coolwarm')\n",
    "plt.xlabel(\"Survival Age in months\")\n",
    "plt.ylabel(\"Survival probability\")\n",
    "plt.title(\"Partial effects of interest rate on model outcome\")"
   ]
  },
  {
   "cell_type": "markdown",
   "metadata": {},
   "source": [
    "The partial effects on outcome graph plots the survival probabilities over time represented by the survival age (months). The model training generated a positive coefficient for the current interest rate feature. As expected, the above 'partial effects on outcome' graph shows that having a higher interest rate leads to a lower probability of survival."
   ]
  }
 ],
 "metadata": {
  "kernelspec": {
   "display_name": "Python 3",
   "language": "python",
   "name": "python3"
  },
  "language_info": {
   "codemirror_mode": {
    "name": "ipython",
    "version": 3
   },
   "file_extension": ".py",
   "mimetype": "text/x-python",
   "name": "python",
   "nbconvert_exporter": "python",
   "pygments_lexer": "ipython3",
   "version": "3.6.5"
  }
 },
 "nbformat": 4,
 "nbformat_minor": 2
}
