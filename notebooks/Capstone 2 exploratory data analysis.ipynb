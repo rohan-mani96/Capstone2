{
 "cells": [
  {
   "cell_type": "markdown",
   "metadata": {},
   "source": [
    "## 3.1 Contents<a id='2.1_Contents'></a>\n",
    "* [3 Exploratory Data Analysis](#3_Exploratory_Data_Analysis)\n",
    "  * [3.1 Contents](#3.1_Contents)\n",
    "  * [3.2 Introduction](#3.2_Introduction)\n",
    "  * [3.3 Imports](#3.3_Imports)\n",
    "  * [3.4 Load The Cleaned Loan Data](#3.4_Load_The_Cleaned_Loan_Data)\n",
    "    * [3.4.1 Load Loan Data](#3.4.1_Load_Loan_Data)\n",
    "    * [3.4.2 View summary statistics](#3.4.2_View_summary_statistics)\n",
    "  * [3.5 Explore The Data](#3.5_Explore_The_Data)\n",
    "  * [3.6 Numeric data](#3.6_Numeric_data)\n",
    "    * [3.6.1 Correlation Plots](#3.6.1_Correlation_Plots)\n",
    "  * [3.7 Save Processed File](#3.6_Save_Processed_File)\n"
   ]
  },
  {
   "cell_type": "markdown",
   "metadata": {},
   "source": [
    "## 3.2 Introduction<a id='3.2_Introduction'></a>"
   ]
  },
  {
   "cell_type": "markdown",
   "metadata": {},
   "source": [
    "The exploratory data analysis step for the loan prediction problem will focus on exploring the loan data, viewing summary statistics, outliers, and correlation plots."
   ]
  },
  {
   "cell_type": "markdown",
   "metadata": {},
   "source": [
    "## 3.3 Imports<a id='3.3_Imports'></a>"
   ]
  },
  {
   "cell_type": "code",
   "execution_count": 1332,
   "metadata": {},
   "outputs": [],
   "source": [
    "import pandas as pd\n",
    "import numpy as np\n",
    "import matplotlib.pyplot as plt\n",
    "import seaborn as sns\n",
    "pd.options.display.float_format = '{:.2f}'.format\n",
    "pd.set_option('display.max_columns', None)"
   ]
  },
  {
   "cell_type": "markdown",
   "metadata": {},
   "source": [
    "## 3.4 Load The Cleaned Loan Data<a id='3.4_Load_The_Cleaned_Loan_Data'></a>"
   ]
  },
  {
   "cell_type": "markdown",
   "metadata": {},
   "source": [
    "### 3.4.1 Load Loan Data<a id='3.4.1_Load_Loan_Data'></a>"
   ]
  },
  {
   "cell_type": "code",
   "execution_count": 1333,
   "metadata": {},
   "outputs": [],
   "source": [
    "dtype={\"Credit_Score\": int, 'First_Payment_Date':str, 'First_Time_Homebuyer_Flag':str,\n",
    "       'Maturity_Date':str,\n",
    "       'Metropolitan_Statistical_Area_(MSA)_Or_Metropolitan_Division':str,\n",
    "       'Mortgage_Insurance_Percentage_(MI_%)':float, 'Number_of_Units':int,\n",
    "       'Occupancy_Status':str, 'Original_Combined_Loan-to-Value_(CLTV)':float,\n",
    "       'Original_Debt-to-Income_(DTI)_Ratio':float, 'Original_UPB':float,\n",
    "       'Original_Loan-to-Value_(LTV)':float, 'Original_Interest_Rate':float, 'Channel':str,\n",
    "       'Prepayment_Penalty_Mortgage_(PPM)_Flag':str, 'Property_State':str,\n",
    "       'Property_Type':str, 'Postal_Code':str, 'Loan_Sequence_Number':str, 'Loan_Purpose':str,\n",
    "       'Original_Loan_Term':int, 'Number_of_Borrowers':int, 'Seller_Name':str,\n",
    "       'Servicer_Name':str, 'HARP_Indicator':str, 'Interest_Only_(I/O)_Indicator':str,\n",
    "       'Monthly_Reporting_Period':str, 'Current_Actual_UPB':float,\n",
    "       'Current_Loan_Delinquency_Status':str, 'Loan_Age':int,\n",
    "       'Remaining_Months_to_Legal_Maturity':int, 'Zero_Balance_Code':str,\n",
    "       'Zero_Balance_Effective_Date':str, 'Current_Interest_Rate':float,\n",
    "       'Current_Deferred_UPB':float, 'Zero_Balance_Removal_UPB':float,\n",
    "       'Interest_Bearing_UPB':float, 'default_status':int, 'bank_default_rate':float,\n",
    "       'state_default_rate':float}"
   ]
  },
  {
   "cell_type": "code",
   "execution_count": 1334,
   "metadata": {},
   "outputs": [
    {
     "name": "stderr",
     "output_type": "stream",
     "text": [
      "x df_loan_cleaned.txt\n"
     ]
    }
   ],
   "source": [
    "!tar -xvzf ../data/processed/loan_data_cleaned.gz"
   ]
  },
  {
   "cell_type": "code",
   "execution_count": 1335,
   "metadata": {},
   "outputs": [],
   "source": [
    "!mv df_loan_cleaned.txt ../data/processed"
   ]
  },
  {
   "cell_type": "code",
   "execution_count": 1336,
   "metadata": {},
   "outputs": [
    {
     "name": "stderr",
     "output_type": "stream",
     "text": [
      "C:\\Users\\rohan\\Anaconda3\\lib\\site-packages\\numpy\\lib\\arraysetops.py:580: FutureWarning: elementwise comparison failed; returning scalar instead, but in the future will perform elementwise comparison\n",
      "  mask |= (ar1 == a)\n"
     ]
    }
   ],
   "source": [
    "df_loan=pd.read_csv('../data/processed/df_loan_cleaned.txt',sep=\"|\",index_col=0,dtype=dtype)"
   ]
  },
  {
   "cell_type": "markdown",
   "metadata": {},
   "source": [
    "### 3.4.2 View summary statistics<a id='3.4.2_View_summary_statistics'></a>"
   ]
  },
  {
   "cell_type": "code",
   "execution_count": 1337,
   "metadata": {},
   "outputs": [
    {
     "data": {
      "text/plain": [
       "(1225000, 38)"
      ]
     },
     "execution_count": 1337,
     "metadata": {},
     "output_type": "execute_result"
    }
   ],
   "source": [
    "df_loan.shape"
   ]
  },
  {
   "cell_type": "code",
   "execution_count": 1338,
   "metadata": {},
   "outputs": [
    {
     "data": {
      "text/html": [
       "<div>\n",
       "<style scoped>\n",
       "    .dataframe tbody tr th:only-of-type {\n",
       "        vertical-align: middle;\n",
       "    }\n",
       "\n",
       "    .dataframe tbody tr th {\n",
       "        vertical-align: top;\n",
       "    }\n",
       "\n",
       "    .dataframe thead th {\n",
       "        text-align: right;\n",
       "    }\n",
       "</style>\n",
       "<table border=\"1\" class=\"dataframe\">\n",
       "  <thead>\n",
       "    <tr style=\"text-align: right;\">\n",
       "      <th></th>\n",
       "      <th>Credit_Score</th>\n",
       "      <th>First_Payment_Date</th>\n",
       "      <th>First_Time_Homebuyer_Flag</th>\n",
       "      <th>Maturity_Date</th>\n",
       "      <th>Metropolitan_Statistical_Area_(MSA)_Or_Metropolitan_Division</th>\n",
       "      <th>Mortgage_Insurance_Percentage_(MI_%)</th>\n",
       "      <th>Number_of_Units</th>\n",
       "      <th>Occupancy_Status</th>\n",
       "      <th>Original_Combined_Loan-to-Value_(CLTV)</th>\n",
       "      <th>Original_Debt-to-Income_(DTI)_Ratio</th>\n",
       "      <th>Original_UPB</th>\n",
       "      <th>Original_Loan-to-Value_(LTV)</th>\n",
       "      <th>Original_Interest_Rate</th>\n",
       "      <th>Channel</th>\n",
       "      <th>Prepayment_Penalty_Mortgage_(PPM)_Flag</th>\n",
       "      <th>Property_State</th>\n",
       "      <th>Property_Type</th>\n",
       "      <th>Postal_Code</th>\n",
       "      <th>Loan_Sequence_Number</th>\n",
       "      <th>Loan_Purpose</th>\n",
       "      <th>Original_Loan_Term</th>\n",
       "      <th>Number_of_Borrowers</th>\n",
       "      <th>Seller_Name</th>\n",
       "      <th>Servicer_Name</th>\n",
       "      <th>HARP_Indicator</th>\n",
       "      <th>Interest_Only_(I/O)_Indicator</th>\n",
       "      <th>Monthly_Reporting_Period</th>\n",
       "      <th>Current_Actual_UPB</th>\n",
       "      <th>Current_Loan_Delinquency_Status</th>\n",
       "      <th>Loan_Age</th>\n",
       "      <th>Remaining_Months_to_Legal_Maturity</th>\n",
       "      <th>Zero_Balance_Code</th>\n",
       "      <th>Zero_Balance_Effective_Date</th>\n",
       "      <th>Current_Interest_Rate</th>\n",
       "      <th>Current_Deferred_UPB</th>\n",
       "      <th>Zero_Balance_Removal_UPB</th>\n",
       "      <th>Interest_Bearing_UPB</th>\n",
       "      <th>default_status</th>\n",
       "    </tr>\n",
       "  </thead>\n",
       "  <tbody>\n",
       "    <tr>\n",
       "      <th>0</th>\n",
       "      <td>618</td>\n",
       "      <td>200210</td>\n",
       "      <td>N</td>\n",
       "      <td>202902</td>\n",
       "      <td>10420.0</td>\n",
       "      <td>25.00</td>\n",
       "      <td>1</td>\n",
       "      <td>P</td>\n",
       "      <td>85.00</td>\n",
       "      <td>24.00</td>\n",
       "      <td>122000.00</td>\n",
       "      <td>85.00</td>\n",
       "      <td>6.38</td>\n",
       "      <td>R</td>\n",
       "      <td>N</td>\n",
       "      <td>OH</td>\n",
       "      <td>SF</td>\n",
       "      <td>44200</td>\n",
       "      <td>F99Q10000029</td>\n",
       "      <td>N</td>\n",
       "      <td>317</td>\n",
       "      <td>2</td>\n",
       "      <td>Other sellers</td>\n",
       "      <td>Other servicers</td>\n",
       "      <td>NaN</td>\n",
       "      <td>N</td>\n",
       "      <td>200405</td>\n",
       "      <td>0.00</td>\n",
       "      <td>0</td>\n",
       "      <td>20</td>\n",
       "      <td>297</td>\n",
       "      <td>1.0</td>\n",
       "      <td>200405.0</td>\n",
       "      <td>6.38</td>\n",
       "      <td>0.00</td>\n",
       "      <td>118803.96</td>\n",
       "      <td>0.00</td>\n",
       "      <td>0</td>\n",
       "    </tr>\n",
       "    <tr>\n",
       "      <th>1</th>\n",
       "      <td>619</td>\n",
       "      <td>200303</td>\n",
       "      <td>N</td>\n",
       "      <td>201802</td>\n",
       "      <td>0.0</td>\n",
       "      <td>0.00</td>\n",
       "      <td>1</td>\n",
       "      <td>P</td>\n",
       "      <td>74.00</td>\n",
       "      <td>25.00</td>\n",
       "      <td>107000.00</td>\n",
       "      <td>74.00</td>\n",
       "      <td>5.25</td>\n",
       "      <td>R</td>\n",
       "      <td>N</td>\n",
       "      <td>OH</td>\n",
       "      <td>SF</td>\n",
       "      <td>44600</td>\n",
       "      <td>F99Q10000064</td>\n",
       "      <td>N</td>\n",
       "      <td>180</td>\n",
       "      <td>2</td>\n",
       "      <td>Other sellers</td>\n",
       "      <td>Other servicers</td>\n",
       "      <td>NaN</td>\n",
       "      <td>N</td>\n",
       "      <td>201307</td>\n",
       "      <td>0.00</td>\n",
       "      <td>0</td>\n",
       "      <td>125</td>\n",
       "      <td>55</td>\n",
       "      <td>1.0</td>\n",
       "      <td>201307.0</td>\n",
       "      <td>5.25</td>\n",
       "      <td>0.00</td>\n",
       "      <td>41685.65</td>\n",
       "      <td>0.00</td>\n",
       "      <td>0</td>\n",
       "    </tr>\n",
       "    <tr>\n",
       "      <th>2</th>\n",
       "      <td>515</td>\n",
       "      <td>200303</td>\n",
       "      <td>N</td>\n",
       "      <td>202903</td>\n",
       "      <td>12700.0</td>\n",
       "      <td>0.00</td>\n",
       "      <td>1</td>\n",
       "      <td>S</td>\n",
       "      <td>78.00</td>\n",
       "      <td>32.00</td>\n",
       "      <td>232000.00</td>\n",
       "      <td>78.00</td>\n",
       "      <td>6.25</td>\n",
       "      <td>R</td>\n",
       "      <td>N</td>\n",
       "      <td>MA</td>\n",
       "      <td>SF</td>\n",
       "      <td>2600</td>\n",
       "      <td>F99Q10000070</td>\n",
       "      <td>P</td>\n",
       "      <td>313</td>\n",
       "      <td>2</td>\n",
       "      <td>Other sellers</td>\n",
       "      <td>Other servicers</td>\n",
       "      <td>NaN</td>\n",
       "      <td>N</td>\n",
       "      <td>200504</td>\n",
       "      <td>0.00</td>\n",
       "      <td>0</td>\n",
       "      <td>26</td>\n",
       "      <td>287</td>\n",
       "      <td>1.0</td>\n",
       "      <td>200504.0</td>\n",
       "      <td>6.25</td>\n",
       "      <td>0.00</td>\n",
       "      <td>64345.87</td>\n",
       "      <td>0.00</td>\n",
       "      <td>0</td>\n",
       "    </tr>\n",
       "    <tr>\n",
       "      <th>3</th>\n",
       "      <td>649</td>\n",
       "      <td>199904</td>\n",
       "      <td>Y</td>\n",
       "      <td>202903</td>\n",
       "      <td>17820.0</td>\n",
       "      <td>4.87</td>\n",
       "      <td>1</td>\n",
       "      <td>P</td>\n",
       "      <td>95.00</td>\n",
       "      <td>46.00</td>\n",
       "      <td>157000.00</td>\n",
       "      <td>95.00</td>\n",
       "      <td>6.75</td>\n",
       "      <td>T</td>\n",
       "      <td>N</td>\n",
       "      <td>CO</td>\n",
       "      <td>SF</td>\n",
       "      <td>80900</td>\n",
       "      <td>F99Q10000170</td>\n",
       "      <td>P</td>\n",
       "      <td>360</td>\n",
       "      <td>1</td>\n",
       "      <td>Other sellers</td>\n",
       "      <td>GMAC MORTGAGE CORPORATION</td>\n",
       "      <td>NaN</td>\n",
       "      <td>N</td>\n",
       "      <td>200207</td>\n",
       "      <td>0.00</td>\n",
       "      <td>RA</td>\n",
       "      <td>40</td>\n",
       "      <td>320</td>\n",
       "      <td>9.0</td>\n",
       "      <td>200207.0</td>\n",
       "      <td>6.75</td>\n",
       "      <td>0.00</td>\n",
       "      <td>151980.32</td>\n",
       "      <td>0.00</td>\n",
       "      <td>1</td>\n",
       "    </tr>\n",
       "    <tr>\n",
       "      <th>4</th>\n",
       "      <td>768</td>\n",
       "      <td>199905</td>\n",
       "      <td>N</td>\n",
       "      <td>202904</td>\n",
       "      <td>12980.0</td>\n",
       "      <td>0.00</td>\n",
       "      <td>1</td>\n",
       "      <td>P</td>\n",
       "      <td>75.00</td>\n",
       "      <td>21.00</td>\n",
       "      <td>111000.00</td>\n",
       "      <td>75.00</td>\n",
       "      <td>6.75</td>\n",
       "      <td>R</td>\n",
       "      <td>N</td>\n",
       "      <td>MI</td>\n",
       "      <td>SF</td>\n",
       "      <td>49200</td>\n",
       "      <td>F99Q10000228</td>\n",
       "      <td>C</td>\n",
       "      <td>360</td>\n",
       "      <td>2</td>\n",
       "      <td>Other sellers</td>\n",
       "      <td>Other servicers</td>\n",
       "      <td>NaN</td>\n",
       "      <td>N</td>\n",
       "      <td>200112</td>\n",
       "      <td>0.00</td>\n",
       "      <td>0</td>\n",
       "      <td>32</td>\n",
       "      <td>328</td>\n",
       "      <td>1.0</td>\n",
       "      <td>200112.0</td>\n",
       "      <td>6.75</td>\n",
       "      <td>0.00</td>\n",
       "      <td>107139.16</td>\n",
       "      <td>0.00</td>\n",
       "      <td>0</td>\n",
       "    </tr>\n",
       "  </tbody>\n",
       "</table>\n",
       "</div>"
      ],
      "text/plain": [
       "   Credit_Score First_Payment_Date First_Time_Homebuyer_Flag Maturity_Date  \\\n",
       "0           618             200210                         N        202902   \n",
       "1           619             200303                         N        201802   \n",
       "2           515             200303                         N        202903   \n",
       "3           649             199904                         Y        202903   \n",
       "4           768             199905                         N        202904   \n",
       "\n",
       "  Metropolitan_Statistical_Area_(MSA)_Or_Metropolitan_Division  \\\n",
       "0                                            10420.0             \n",
       "1                                                0.0             \n",
       "2                                            12700.0             \n",
       "3                                            17820.0             \n",
       "4                                            12980.0             \n",
       "\n",
       "   Mortgage_Insurance_Percentage_(MI_%)  Number_of_Units Occupancy_Status  \\\n",
       "0                                 25.00                1                P   \n",
       "1                                  0.00                1                P   \n",
       "2                                  0.00                1                S   \n",
       "3                                  4.87                1                P   \n",
       "4                                  0.00                1                P   \n",
       "\n",
       "   Original_Combined_Loan-to-Value_(CLTV)  \\\n",
       "0                                   85.00   \n",
       "1                                   74.00   \n",
       "2                                   78.00   \n",
       "3                                   95.00   \n",
       "4                                   75.00   \n",
       "\n",
       "   Original_Debt-to-Income_(DTI)_Ratio  Original_UPB  \\\n",
       "0                                24.00     122000.00   \n",
       "1                                25.00     107000.00   \n",
       "2                                32.00     232000.00   \n",
       "3                                46.00     157000.00   \n",
       "4                                21.00     111000.00   \n",
       "\n",
       "   Original_Loan-to-Value_(LTV)  Original_Interest_Rate Channel  \\\n",
       "0                         85.00                    6.38       R   \n",
       "1                         74.00                    5.25       R   \n",
       "2                         78.00                    6.25       R   \n",
       "3                         95.00                    6.75       T   \n",
       "4                         75.00                    6.75       R   \n",
       "\n",
       "  Prepayment_Penalty_Mortgage_(PPM)_Flag Property_State Property_Type  \\\n",
       "0                                      N             OH            SF   \n",
       "1                                      N             OH            SF   \n",
       "2                                      N             MA            SF   \n",
       "3                                      N             CO            SF   \n",
       "4                                      N             MI            SF   \n",
       "\n",
       "  Postal_Code Loan_Sequence_Number Loan_Purpose  Original_Loan_Term  \\\n",
       "0       44200         F99Q10000029            N                 317   \n",
       "1       44600         F99Q10000064            N                 180   \n",
       "2        2600         F99Q10000070            P                 313   \n",
       "3       80900         F99Q10000170            P                 360   \n",
       "4       49200         F99Q10000228            C                 360   \n",
       "\n",
       "   Number_of_Borrowers    Seller_Name              Servicer_Name  \\\n",
       "0                    2  Other sellers            Other servicers   \n",
       "1                    2  Other sellers            Other servicers   \n",
       "2                    2  Other sellers            Other servicers   \n",
       "3                    1  Other sellers  GMAC MORTGAGE CORPORATION   \n",
       "4                    2  Other sellers            Other servicers   \n",
       "\n",
       "  HARP_Indicator Interest_Only_(I/O)_Indicator Monthly_Reporting_Period  \\\n",
       "0            NaN                             N                   200405   \n",
       "1            NaN                             N                   201307   \n",
       "2            NaN                             N                   200504   \n",
       "3            NaN                             N                   200207   \n",
       "4            NaN                             N                   200112   \n",
       "\n",
       "   Current_Actual_UPB Current_Loan_Delinquency_Status  Loan_Age  \\\n",
       "0                0.00                               0        20   \n",
       "1                0.00                               0       125   \n",
       "2                0.00                               0        26   \n",
       "3                0.00                              RA        40   \n",
       "4                0.00                               0        32   \n",
       "\n",
       "   Remaining_Months_to_Legal_Maturity Zero_Balance_Code  \\\n",
       "0                                 297               1.0   \n",
       "1                                  55               1.0   \n",
       "2                                 287               1.0   \n",
       "3                                 320               9.0   \n",
       "4                                 328               1.0   \n",
       "\n",
       "  Zero_Balance_Effective_Date  Current_Interest_Rate  Current_Deferred_UPB  \\\n",
       "0                    200405.0                   6.38                  0.00   \n",
       "1                    201307.0                   5.25                  0.00   \n",
       "2                    200504.0                   6.25                  0.00   \n",
       "3                    200207.0                   6.75                  0.00   \n",
       "4                    200112.0                   6.75                  0.00   \n",
       "\n",
       "   Zero_Balance_Removal_UPB  Interest_Bearing_UPB  default_status  \n",
       "0                 118803.96                  0.00               0  \n",
       "1                  41685.65                  0.00               0  \n",
       "2                  64345.87                  0.00               0  \n",
       "3                 151980.32                  0.00               1  \n",
       "4                 107139.16                  0.00               0  "
      ]
     },
     "execution_count": 1338,
     "metadata": {},
     "output_type": "execute_result"
    }
   ],
   "source": [
    "df_loan.head()"
   ]
  },
  {
   "cell_type": "code",
   "execution_count": 1339,
   "metadata": {},
   "outputs": [
    {
     "name": "stdout",
     "output_type": "stream",
     "text": [
      "<class 'pandas.core.frame.DataFrame'>\n",
      "Int64Index: 1225000 entries, 0 to 1224999\n",
      "Data columns (total 38 columns):\n",
      " #   Column                                                        Non-Null Count    Dtype  \n",
      "---  ------                                                        --------------    -----  \n",
      " 0   Credit_Score                                                  1225000 non-null  int32  \n",
      " 1   First_Payment_Date                                            1225000 non-null  object \n",
      " 2   First_Time_Homebuyer_Flag                                     1225000 non-null  object \n",
      " 3   Maturity_Date                                                 1225000 non-null  object \n",
      " 4   Metropolitan_Statistical_Area_(MSA)_Or_Metropolitan_Division  1225000 non-null  object \n",
      " 5   Mortgage_Insurance_Percentage_(MI_%)                          1225000 non-null  float64\n",
      " 6   Number_of_Units                                               1225000 non-null  int32  \n",
      " 7   Occupancy_Status                                              1225000 non-null  object \n",
      " 8   Original_Combined_Loan-to-Value_(CLTV)                        1225000 non-null  float64\n",
      " 9   Original_Debt-to-Income_(DTI)_Ratio                           1225000 non-null  float64\n",
      " 10  Original_UPB                                                  1225000 non-null  float64\n",
      " 11  Original_Loan-to-Value_(LTV)                                  1225000 non-null  float64\n",
      " 12  Original_Interest_Rate                                        1225000 non-null  float64\n",
      " 13  Channel                                                       1225000 non-null  object \n",
      " 14  Prepayment_Penalty_Mortgage_(PPM)_Flag                        1225000 non-null  object \n",
      " 15  Property_State                                                1225000 non-null  object \n",
      " 16  Property_Type                                                 1225000 non-null  object \n",
      " 17  Postal_Code                                                   1225000 non-null  object \n",
      " 18  Loan_Sequence_Number                                          1225000 non-null  object \n",
      " 19  Loan_Purpose                                                  1225000 non-null  object \n",
      " 20  Original_Loan_Term                                            1225000 non-null  int32  \n",
      " 21  Number_of_Borrowers                                           1225000 non-null  int32  \n",
      " 22  Seller_Name                                                   1225000 non-null  object \n",
      " 23  Servicer_Name                                                 1225000 non-null  object \n",
      " 24  HARP_Indicator                                                83781 non-null    object \n",
      " 25  Interest_Only_(I/O)_Indicator                                 1225000 non-null  object \n",
      " 26  Monthly_Reporting_Period                                      1225000 non-null  object \n",
      " 27  Current_Actual_UPB                                            1225000 non-null  float64\n",
      " 28  Current_Loan_Delinquency_Status                               1225000 non-null  object \n",
      " 29  Loan_Age                                                      1225000 non-null  int32  \n",
      " 30  Remaining_Months_to_Legal_Maturity                            1225000 non-null  int32  \n",
      " 31  Zero_Balance_Code                                             937624 non-null   object \n",
      " 32  Zero_Balance_Effective_Date                                   937623 non-null   object \n",
      " 33  Current_Interest_Rate                                         1225000 non-null  float64\n",
      " 34  Current_Deferred_UPB                                          1225000 non-null  float64\n",
      " 35  Zero_Balance_Removal_UPB                                      937624 non-null   float64\n",
      " 36  Interest_Bearing_UPB                                          1225000 non-null  float64\n",
      " 37  default_status                                                1225000 non-null  int32  \n",
      "dtypes: float64(11), int32(7), object(20)\n",
      "memory usage: 331.8+ MB\n"
     ]
    }
   ],
   "source": [
    "df_loan.info()"
   ]
  },
  {
   "cell_type": "code",
   "execution_count": 1340,
   "metadata": {},
   "outputs": [
    {
     "data": {
      "text/html": [
       "<div>\n",
       "<style scoped>\n",
       "    .dataframe tbody tr th:only-of-type {\n",
       "        vertical-align: middle;\n",
       "    }\n",
       "\n",
       "    .dataframe tbody tr th {\n",
       "        vertical-align: top;\n",
       "    }\n",
       "\n",
       "    .dataframe thead th {\n",
       "        text-align: right;\n",
       "    }\n",
       "</style>\n",
       "<table border=\"1\" class=\"dataframe\">\n",
       "  <thead>\n",
       "    <tr style=\"text-align: right;\">\n",
       "      <th></th>\n",
       "      <th>Credit_Score</th>\n",
       "      <th>Mortgage_Insurance_Percentage_(MI_%)</th>\n",
       "      <th>Number_of_Units</th>\n",
       "      <th>Original_Combined_Loan-to-Value_(CLTV)</th>\n",
       "      <th>Original_Debt-to-Income_(DTI)_Ratio</th>\n",
       "      <th>Original_UPB</th>\n",
       "      <th>Original_Loan-to-Value_(LTV)</th>\n",
       "      <th>Original_Interest_Rate</th>\n",
       "      <th>Original_Loan_Term</th>\n",
       "      <th>Number_of_Borrowers</th>\n",
       "      <th>Current_Actual_UPB</th>\n",
       "      <th>Loan_Age</th>\n",
       "      <th>Remaining_Months_to_Legal_Maturity</th>\n",
       "      <th>Current_Interest_Rate</th>\n",
       "      <th>Current_Deferred_UPB</th>\n",
       "      <th>Zero_Balance_Removal_UPB</th>\n",
       "      <th>Interest_Bearing_UPB</th>\n",
       "      <th>default_status</th>\n",
       "    </tr>\n",
       "  </thead>\n",
       "  <tbody>\n",
       "    <tr>\n",
       "      <th>count</th>\n",
       "      <td>1225000.00</td>\n",
       "      <td>1225000.00</td>\n",
       "      <td>1225000.00</td>\n",
       "      <td>1225000.00</td>\n",
       "      <td>1225000.00</td>\n",
       "      <td>1225000.00</td>\n",
       "      <td>1225000.00</td>\n",
       "      <td>1225000.00</td>\n",
       "      <td>1225000.00</td>\n",
       "      <td>1225000.00</td>\n",
       "      <td>1225000.00</td>\n",
       "      <td>1225000.00</td>\n",
       "      <td>1225000.00</td>\n",
       "      <td>1225000.00</td>\n",
       "      <td>1225000.00</td>\n",
       "      <td>937624.00</td>\n",
       "      <td>1225000.00</td>\n",
       "      <td>1225000.00</td>\n",
       "    </tr>\n",
       "    <tr>\n",
       "      <th>mean</th>\n",
       "      <td>740.76</td>\n",
       "      <td>4.87</td>\n",
       "      <td>1.03</td>\n",
       "      <td>72.79</td>\n",
       "      <td>35.01</td>\n",
       "      <td>204143.15</td>\n",
       "      <td>71.65</td>\n",
       "      <td>5.14</td>\n",
       "      <td>314.09</td>\n",
       "      <td>1.56</td>\n",
       "      <td>49060.28</td>\n",
       "      <td>51.06</td>\n",
       "      <td>263.63</td>\n",
       "      <td>5.13</td>\n",
       "      <td>94.70</td>\n",
       "      <td>167157.37</td>\n",
       "      <td>48965.58</td>\n",
       "      <td>0.01</td>\n",
       "    </tr>\n",
       "    <tr>\n",
       "      <th>std</th>\n",
       "      <td>52.22</td>\n",
       "      <td>10.26</td>\n",
       "      <td>0.22</td>\n",
       "      <td>19.48</td>\n",
       "      <td>11.45</td>\n",
       "      <td>122612.59</td>\n",
       "      <td>18.91</td>\n",
       "      <td>1.42</td>\n",
       "      <td>77.15</td>\n",
       "      <td>0.50</td>\n",
       "      <td>113668.62</td>\n",
       "      <td>42.53</td>\n",
       "      <td>94.09</td>\n",
       "      <td>1.43</td>\n",
       "      <td>1763.84</td>\n",
       "      <td>112610.71</td>\n",
       "      <td>113489.51</td>\n",
       "      <td>0.11</td>\n",
       "    </tr>\n",
       "    <tr>\n",
       "      <th>min</th>\n",
       "      <td>300.00</td>\n",
       "      <td>0.00</td>\n",
       "      <td>1.00</td>\n",
       "      <td>2.00</td>\n",
       "      <td>1.00</td>\n",
       "      <td>7000.00</td>\n",
       "      <td>2.00</td>\n",
       "      <td>1.75</td>\n",
       "      <td>36.00</td>\n",
       "      <td>1.00</td>\n",
       "      <td>0.00</td>\n",
       "      <td>0.00</td>\n",
       "      <td>-49.00</td>\n",
       "      <td>1.75</td>\n",
       "      <td>0.00</td>\n",
       "      <td>0.00</td>\n",
       "      <td>0.00</td>\n",
       "      <td>0.00</td>\n",
       "    </tr>\n",
       "    <tr>\n",
       "      <th>25%</th>\n",
       "      <td>707.00</td>\n",
       "      <td>0.00</td>\n",
       "      <td>1.00</td>\n",
       "      <td>62.00</td>\n",
       "      <td>27.00</td>\n",
       "      <td>113000.00</td>\n",
       "      <td>61.00</td>\n",
       "      <td>4.00</td>\n",
       "      <td>240.00</td>\n",
       "      <td>1.00</td>\n",
       "      <td>0.00</td>\n",
       "      <td>19.00</td>\n",
       "      <td>193.00</td>\n",
       "      <td>4.00</td>\n",
       "      <td>0.00</td>\n",
       "      <td>86071.49</td>\n",
       "      <td>0.00</td>\n",
       "      <td>0.00</td>\n",
       "    </tr>\n",
       "    <tr>\n",
       "      <th>50%</th>\n",
       "      <td>751.00</td>\n",
       "      <td>0.00</td>\n",
       "      <td>1.00</td>\n",
       "      <td>77.00</td>\n",
       "      <td>36.00</td>\n",
       "      <td>175000.00</td>\n",
       "      <td>75.00</td>\n",
       "      <td>4.99</td>\n",
       "      <td>360.00</td>\n",
       "      <td>2.00</td>\n",
       "      <td>0.00</td>\n",
       "      <td>37.00</td>\n",
       "      <td>304.00</td>\n",
       "      <td>4.88</td>\n",
       "      <td>0.00</td>\n",
       "      <td>144545.99</td>\n",
       "      <td>0.00</td>\n",
       "      <td>0.00</td>\n",
       "    </tr>\n",
       "    <tr>\n",
       "      <th>75%</th>\n",
       "      <td>783.00</td>\n",
       "      <td>0.00</td>\n",
       "      <td>1.00</td>\n",
       "      <td>84.00</td>\n",
       "      <td>44.00</td>\n",
       "      <td>268000.00</td>\n",
       "      <td>80.00</td>\n",
       "      <td>6.25</td>\n",
       "      <td>360.00</td>\n",
       "      <td>2.00</td>\n",
       "      <td>0.00</td>\n",
       "      <td>73.00</td>\n",
       "      <td>336.00</td>\n",
       "      <td>6.12</td>\n",
       "      <td>0.00</td>\n",
       "      <td>228150.54</td>\n",
       "      <td>0.00</td>\n",
       "      <td>0.00</td>\n",
       "    </tr>\n",
       "    <tr>\n",
       "      <th>max</th>\n",
       "      <td>850.00</td>\n",
       "      <td>55.00</td>\n",
       "      <td>4.00</td>\n",
       "      <td>630.00</td>\n",
       "      <td>70.00</td>\n",
       "      <td>1582000.00</td>\n",
       "      <td>534.00</td>\n",
       "      <td>13.75</td>\n",
       "      <td>480.00</td>\n",
       "      <td>5.00</td>\n",
       "      <td>1506764.78</td>\n",
       "      <td>295.00</td>\n",
       "      <td>480.00</td>\n",
       "      <td>13.75</td>\n",
       "      <td>217706.14</td>\n",
       "      <td>1143156.27</td>\n",
       "      <td>1506764.78</td>\n",
       "      <td>1.00</td>\n",
       "    </tr>\n",
       "  </tbody>\n",
       "</table>\n",
       "</div>"
      ],
      "text/plain": [
       "       Credit_Score  Mortgage_Insurance_Percentage_(MI_%)  Number_of_Units  \\\n",
       "count    1225000.00                            1225000.00       1225000.00   \n",
       "mean         740.76                                  4.87             1.03   \n",
       "std           52.22                                 10.26             0.22   \n",
       "min          300.00                                  0.00             1.00   \n",
       "25%          707.00                                  0.00             1.00   \n",
       "50%          751.00                                  0.00             1.00   \n",
       "75%          783.00                                  0.00             1.00   \n",
       "max          850.00                                 55.00             4.00   \n",
       "\n",
       "       Original_Combined_Loan-to-Value_(CLTV)  \\\n",
       "count                              1225000.00   \n",
       "mean                                    72.79   \n",
       "std                                     19.48   \n",
       "min                                      2.00   \n",
       "25%                                     62.00   \n",
       "50%                                     77.00   \n",
       "75%                                     84.00   \n",
       "max                                    630.00   \n",
       "\n",
       "       Original_Debt-to-Income_(DTI)_Ratio  Original_UPB  \\\n",
       "count                           1225000.00    1225000.00   \n",
       "mean                                 35.01     204143.15   \n",
       "std                                  11.45     122612.59   \n",
       "min                                   1.00       7000.00   \n",
       "25%                                  27.00     113000.00   \n",
       "50%                                  36.00     175000.00   \n",
       "75%                                  44.00     268000.00   \n",
       "max                                  70.00    1582000.00   \n",
       "\n",
       "       Original_Loan-to-Value_(LTV)  Original_Interest_Rate  \\\n",
       "count                    1225000.00              1225000.00   \n",
       "mean                          71.65                    5.14   \n",
       "std                           18.91                    1.42   \n",
       "min                            2.00                    1.75   \n",
       "25%                           61.00                    4.00   \n",
       "50%                           75.00                    4.99   \n",
       "75%                           80.00                    6.25   \n",
       "max                          534.00                   13.75   \n",
       "\n",
       "       Original_Loan_Term  Number_of_Borrowers  Current_Actual_UPB   Loan_Age  \\\n",
       "count          1225000.00           1225000.00          1225000.00 1225000.00   \n",
       "mean               314.09                 1.56            49060.28      51.06   \n",
       "std                 77.15                 0.50           113668.62      42.53   \n",
       "min                 36.00                 1.00                0.00       0.00   \n",
       "25%                240.00                 1.00                0.00      19.00   \n",
       "50%                360.00                 2.00                0.00      37.00   \n",
       "75%                360.00                 2.00                0.00      73.00   \n",
       "max                480.00                 5.00          1506764.78     295.00   \n",
       "\n",
       "       Remaining_Months_to_Legal_Maturity  Current_Interest_Rate  \\\n",
       "count                          1225000.00             1225000.00   \n",
       "mean                               263.63                   5.13   \n",
       "std                                 94.09                   1.43   \n",
       "min                                -49.00                   1.75   \n",
       "25%                                193.00                   4.00   \n",
       "50%                                304.00                   4.88   \n",
       "75%                                336.00                   6.12   \n",
       "max                                480.00                  13.75   \n",
       "\n",
       "       Current_Deferred_UPB  Zero_Balance_Removal_UPB  Interest_Bearing_UPB  \\\n",
       "count            1225000.00                 937624.00            1225000.00   \n",
       "mean                  94.70                 167157.37              48965.58   \n",
       "std                 1763.84                 112610.71             113489.51   \n",
       "min                    0.00                      0.00                  0.00   \n",
       "25%                    0.00                  86071.49                  0.00   \n",
       "50%                    0.00                 144545.99                  0.00   \n",
       "75%                    0.00                 228150.54                  0.00   \n",
       "max               217706.14                1143156.27            1506764.78   \n",
       "\n",
       "       default_status  \n",
       "count      1225000.00  \n",
       "mean             0.01  \n",
       "std              0.11  \n",
       "min              0.00  \n",
       "25%              0.00  \n",
       "50%              0.00  \n",
       "75%              0.00  \n",
       "max              1.00  "
      ]
     },
     "execution_count": 1340,
     "metadata": {},
     "output_type": "execute_result"
    }
   ],
   "source": [
    "df_loan.describe()"
   ]
  },
  {
   "cell_type": "markdown",
   "metadata": {},
   "source": [
    "## 3.5 Explore The Data<a id='3.5_Explore_The_Data'></a>"
   ]
  },
  {
   "cell_type": "markdown",
   "metadata": {},
   "source": [
    "Check distribution of default status and data imbalance."
   ]
  },
  {
   "cell_type": "code",
   "execution_count": 1341,
   "metadata": {},
   "outputs": [
    {
     "data": {
      "text/plain": [
       "0   0.99\n",
       "1   0.01\n",
       "Name: default_status, dtype: float64"
      ]
     },
     "execution_count": 1341,
     "metadata": {},
     "output_type": "execute_result"
    }
   ],
   "source": [
    "df_loan['default_status'].value_counts(normalize=True)"
   ]
  },
  {
   "cell_type": "code",
   "execution_count": 1342,
   "metadata": {},
   "outputs": [
    {
     "data": {
      "text/plain": [
       "0    1208751\n",
       "1      16249\n",
       "Name: default_status, dtype: int64"
      ]
     },
     "execution_count": 1342,
     "metadata": {},
     "output_type": "execute_result"
    }
   ],
   "source": [
    "df_loan['default_status'].value_counts()"
   ]
  },
  {
   "cell_type": "code",
   "execution_count": 1343,
   "metadata": {},
   "outputs": [
    {
     "data": {
      "text/plain": [
       "CA    146450\n",
       "TX     75269\n",
       "FL     74170\n",
       "IL     63013\n",
       "OH     47306\n",
       "Name: Property_State, dtype: int64"
      ]
     },
     "execution_count": 1343,
     "metadata": {},
     "output_type": "execute_result"
    }
   ],
   "source": [
    "df_loan['Property_State'].value_counts().head()"
   ]
  },
  {
   "cell_type": "markdown",
   "metadata": {},
   "source": [
    "The highest number of loans are taken from homeowners in California, where the default rate is in the low to medium spectrum, followed by Texas with 75269 loans (per data exploration in data wrangling)."
   ]
  },
  {
   "cell_type": "code",
   "execution_count": 1344,
   "metadata": {},
   "outputs": [
    {
     "data": {
      "text/plain": [
       "0.0        270991\n",
       "31084.0     26253\n",
       "38060.0     22330\n",
       "12060.0     21717\n",
       "47894.0     19868\n",
       "Name: Metropolitan_Statistical_Area_(MSA)_Or_Metropolitan_Division, dtype: int64"
      ]
     },
     "execution_count": 1344,
     "metadata": {},
     "output_type": "execute_result"
    }
   ],
   "source": [
    "df_loan['Metropolitan_Statistical_Area_(MSA)_Or_Metropolitan_Division'].value_counts().head()"
   ]
  },
  {
   "cell_type": "markdown",
   "metadata": {},
   "source": [
    "The highest number of loans from metropolitan areas are from Glendale in Los Angeles followed by Arizona. This seems consistent with California being at the top for loans (per data exploration in data wrangling)."
   ]
  },
  {
   "cell_type": "code",
   "execution_count": 1345,
   "metadata": {},
   "outputs": [
    {
     "data": {
      "text/plain": [
       "94500    12149\n",
       "75000    11545\n",
       "30000    11420\n",
       "60000    10888\n",
       "85200    10329\n",
       "Name: Postal_Code, dtype: int64"
      ]
     },
     "execution_count": 1345,
     "metadata": {},
     "output_type": "execute_result"
    }
   ],
   "source": [
    "df_loan['Postal_Code'].value_counts().head()"
   ]
  },
  {
   "cell_type": "markdown",
   "metadata": {},
   "source": [
    "The zipcode referring to Oakland, California has the highest number of loans followed by Texas which again follows the trend in the data."
   ]
  },
  {
   "cell_type": "markdown",
   "metadata": {},
   "source": [
    "Continuing below to gather default rate aggregate stats by servicer name/bank."
   ]
  },
  {
   "cell_type": "code",
   "execution_count": 1346,
   "metadata": {},
   "outputs": [],
   "source": [
    "def no_defaults(x):\n",
    "    return (x==0).sum()"
   ]
  },
  {
   "cell_type": "code",
   "execution_count": 1347,
   "metadata": {},
   "outputs": [],
   "source": [
    "servicer_name_default_df=df_loan.groupby('Servicer_Name')['default_status'].agg(['sum',no_defaults,'count']).rename(columns={'sum':'defaults'})\n",
    "servicer_name_default_df['bank_default_rate']=((servicer_name_default_df['defaults']*1.0)/servicer_name_default_df['count'])\n",
    "servicer_name_default_df.head()\n",
    "servicer_name_default_rate_df=servicer_name_default_df[['bank_default_rate']]"
   ]
  },
  {
   "cell_type": "code",
   "execution_count": 1348,
   "metadata": {},
   "outputs": [],
   "source": [
    "servicer_name_default_rate_plot_df=servicer_name_default_rate_df[servicer_name_default_rate_df['bank_default_rate']!=0]"
   ]
  },
  {
   "cell_type": "code",
   "execution_count": 1349,
   "metadata": {},
   "outputs": [
    {
     "data": {
      "image/png": "[encoded data removed]",
      "text/plain": [
       "<Figure size 720x720 with 1 Axes>"
      ]
     },
     "metadata": {},
     "output_type": "display_data"
    }
   ],
   "source": [
    "(servicer_name_default_rate_plot_df.reindex(index=servicer_name_default_rate_plot_df['bank_default_rate']\n",
    "    .sort_values(ascending=False)\n",
    "    .index)\n",
    "    .plot(kind='barh', figsize=(10, 10), title='Defaults by bank'))\n",
    "plt.xlabel('Default rate');"
   ]
  },
  {
   "cell_type": "markdown",
   "metadata": {},
   "source": [
    "The maximum default rate appears to be above 0.12 for Owcen loan servicing. The other servicers are below 0.08. It may be good to include the servicer default rate statistics  as a feature to inform the model."
   ]
  },
  {
   "cell_type": "code",
   "execution_count": 1350,
   "metadata": {},
   "outputs": [
    {
     "data": {
      "text/html": [
       "<div>\n",
       "<style scoped>\n",
       "    .dataframe tbody tr th:only-of-type {\n",
       "        vertical-align: middle;\n",
       "    }\n",
       "\n",
       "    .dataframe tbody tr th {\n",
       "        vertical-align: top;\n",
       "    }\n",
       "\n",
       "    .dataframe thead th {\n",
       "        text-align: right;\n",
       "    }\n",
       "</style>\n",
       "<table border=\"1\" class=\"dataframe\">\n",
       "  <thead>\n",
       "    <tr style=\"text-align: right;\">\n",
       "      <th></th>\n",
       "      <th>Credit_Score</th>\n",
       "      <th>First_Payment_Date</th>\n",
       "      <th>First_Time_Homebuyer_Flag</th>\n",
       "      <th>Maturity_Date</th>\n",
       "      <th>Metropolitan_Statistical_Area_(MSA)_Or_Metropolitan_Division</th>\n",
       "      <th>Mortgage_Insurance_Percentage_(MI_%)</th>\n",
       "      <th>Number_of_Units</th>\n",
       "      <th>Occupancy_Status</th>\n",
       "      <th>Original_Combined_Loan-to-Value_(CLTV)</th>\n",
       "      <th>Original_Debt-to-Income_(DTI)_Ratio</th>\n",
       "      <th>Original_UPB</th>\n",
       "      <th>Original_Loan-to-Value_(LTV)</th>\n",
       "      <th>Original_Interest_Rate</th>\n",
       "      <th>Channel</th>\n",
       "      <th>Prepayment_Penalty_Mortgage_(PPM)_Flag</th>\n",
       "      <th>Property_State</th>\n",
       "      <th>Property_Type</th>\n",
       "      <th>Postal_Code</th>\n",
       "      <th>Loan_Sequence_Number</th>\n",
       "      <th>Loan_Purpose</th>\n",
       "      <th>Original_Loan_Term</th>\n",
       "      <th>Number_of_Borrowers</th>\n",
       "      <th>Seller_Name</th>\n",
       "      <th>Servicer_Name</th>\n",
       "      <th>HARP_Indicator</th>\n",
       "      <th>Interest_Only_(I/O)_Indicator</th>\n",
       "      <th>Monthly_Reporting_Period</th>\n",
       "      <th>Current_Actual_UPB</th>\n",
       "      <th>Current_Loan_Delinquency_Status</th>\n",
       "      <th>Loan_Age</th>\n",
       "      <th>Remaining_Months_to_Legal_Maturity</th>\n",
       "      <th>Zero_Balance_Code</th>\n",
       "      <th>Zero_Balance_Effective_Date</th>\n",
       "      <th>Current_Interest_Rate</th>\n",
       "      <th>Current_Deferred_UPB</th>\n",
       "      <th>Zero_Balance_Removal_UPB</th>\n",
       "      <th>Interest_Bearing_UPB</th>\n",
       "      <th>default_status</th>\n",
       "      <th>bank_default_rate</th>\n",
       "    </tr>\n",
       "  </thead>\n",
       "  <tbody>\n",
       "    <tr>\n",
       "      <th>0</th>\n",
       "      <td>618</td>\n",
       "      <td>200210</td>\n",
       "      <td>N</td>\n",
       "      <td>202902</td>\n",
       "      <td>10420.0</td>\n",
       "      <td>25.00</td>\n",
       "      <td>1</td>\n",
       "      <td>P</td>\n",
       "      <td>85.00</td>\n",
       "      <td>24.00</td>\n",
       "      <td>122000.00</td>\n",
       "      <td>85.00</td>\n",
       "      <td>6.38</td>\n",
       "      <td>R</td>\n",
       "      <td>N</td>\n",
       "      <td>OH</td>\n",
       "      <td>SF</td>\n",
       "      <td>44200</td>\n",
       "      <td>F99Q10000029</td>\n",
       "      <td>N</td>\n",
       "      <td>317</td>\n",
       "      <td>2</td>\n",
       "      <td>Other sellers</td>\n",
       "      <td>Other servicers</td>\n",
       "      <td>NaN</td>\n",
       "      <td>N</td>\n",
       "      <td>200405</td>\n",
       "      <td>0.00</td>\n",
       "      <td>0</td>\n",
       "      <td>20</td>\n",
       "      <td>297</td>\n",
       "      <td>1.0</td>\n",
       "      <td>200405.0</td>\n",
       "      <td>6.38</td>\n",
       "      <td>0.00</td>\n",
       "      <td>118803.96</td>\n",
       "      <td>0.00</td>\n",
       "      <td>0</td>\n",
       "      <td>0.01</td>\n",
       "    </tr>\n",
       "    <tr>\n",
       "      <th>1</th>\n",
       "      <td>619</td>\n",
       "      <td>200303</td>\n",
       "      <td>N</td>\n",
       "      <td>201802</td>\n",
       "      <td>0.0</td>\n",
       "      <td>0.00</td>\n",
       "      <td>1</td>\n",
       "      <td>P</td>\n",
       "      <td>74.00</td>\n",
       "      <td>25.00</td>\n",
       "      <td>107000.00</td>\n",
       "      <td>74.00</td>\n",
       "      <td>5.25</td>\n",
       "      <td>R</td>\n",
       "      <td>N</td>\n",
       "      <td>OH</td>\n",
       "      <td>SF</td>\n",
       "      <td>44600</td>\n",
       "      <td>F99Q10000064</td>\n",
       "      <td>N</td>\n",
       "      <td>180</td>\n",
       "      <td>2</td>\n",
       "      <td>Other sellers</td>\n",
       "      <td>Other servicers</td>\n",
       "      <td>NaN</td>\n",
       "      <td>N</td>\n",
       "      <td>201307</td>\n",
       "      <td>0.00</td>\n",
       "      <td>0</td>\n",
       "      <td>125</td>\n",
       "      <td>55</td>\n",
       "      <td>1.0</td>\n",
       "      <td>201307.0</td>\n",
       "      <td>5.25</td>\n",
       "      <td>0.00</td>\n",
       "      <td>41685.65</td>\n",
       "      <td>0.00</td>\n",
       "      <td>0</td>\n",
       "      <td>0.01</td>\n",
       "    </tr>\n",
       "    <tr>\n",
       "      <th>2</th>\n",
       "      <td>515</td>\n",
       "      <td>200303</td>\n",
       "      <td>N</td>\n",
       "      <td>202903</td>\n",
       "      <td>12700.0</td>\n",
       "      <td>0.00</td>\n",
       "      <td>1</td>\n",
       "      <td>S</td>\n",
       "      <td>78.00</td>\n",
       "      <td>32.00</td>\n",
       "      <td>232000.00</td>\n",
       "      <td>78.00</td>\n",
       "      <td>6.25</td>\n",
       "      <td>R</td>\n",
       "      <td>N</td>\n",
       "      <td>MA</td>\n",
       "      <td>SF</td>\n",
       "      <td>2600</td>\n",
       "      <td>F99Q10000070</td>\n",
       "      <td>P</td>\n",
       "      <td>313</td>\n",
       "      <td>2</td>\n",
       "      <td>Other sellers</td>\n",
       "      <td>Other servicers</td>\n",
       "      <td>NaN</td>\n",
       "      <td>N</td>\n",
       "      <td>200504</td>\n",
       "      <td>0.00</td>\n",
       "      <td>0</td>\n",
       "      <td>26</td>\n",
       "      <td>287</td>\n",
       "      <td>1.0</td>\n",
       "      <td>200504.0</td>\n",
       "      <td>6.25</td>\n",
       "      <td>0.00</td>\n",
       "      <td>64345.87</td>\n",
       "      <td>0.00</td>\n",
       "      <td>0</td>\n",
       "      <td>0.01</td>\n",
       "    </tr>\n",
       "    <tr>\n",
       "      <th>3</th>\n",
       "      <td>649</td>\n",
       "      <td>199904</td>\n",
       "      <td>Y</td>\n",
       "      <td>202903</td>\n",
       "      <td>17820.0</td>\n",
       "      <td>4.87</td>\n",
       "      <td>1</td>\n",
       "      <td>P</td>\n",
       "      <td>95.00</td>\n",
       "      <td>46.00</td>\n",
       "      <td>157000.00</td>\n",
       "      <td>95.00</td>\n",
       "      <td>6.75</td>\n",
       "      <td>T</td>\n",
       "      <td>N</td>\n",
       "      <td>CO</td>\n",
       "      <td>SF</td>\n",
       "      <td>80900</td>\n",
       "      <td>F99Q10000170</td>\n",
       "      <td>P</td>\n",
       "      <td>360</td>\n",
       "      <td>1</td>\n",
       "      <td>Other sellers</td>\n",
       "      <td>GMAC MORTGAGE CORPORATION</td>\n",
       "      <td>NaN</td>\n",
       "      <td>N</td>\n",
       "      <td>200207</td>\n",
       "      <td>0.00</td>\n",
       "      <td>RA</td>\n",
       "      <td>40</td>\n",
       "      <td>320</td>\n",
       "      <td>9.0</td>\n",
       "      <td>200207.0</td>\n",
       "      <td>6.75</td>\n",
       "      <td>0.00</td>\n",
       "      <td>151980.32</td>\n",
       "      <td>0.00</td>\n",
       "      <td>1</td>\n",
       "      <td>0.01</td>\n",
       "    </tr>\n",
       "    <tr>\n",
       "      <th>4</th>\n",
       "      <td>768</td>\n",
       "      <td>199905</td>\n",
       "      <td>N</td>\n",
       "      <td>202904</td>\n",
       "      <td>12980.0</td>\n",
       "      <td>0.00</td>\n",
       "      <td>1</td>\n",
       "      <td>P</td>\n",
       "      <td>75.00</td>\n",
       "      <td>21.00</td>\n",
       "      <td>111000.00</td>\n",
       "      <td>75.00</td>\n",
       "      <td>6.75</td>\n",
       "      <td>R</td>\n",
       "      <td>N</td>\n",
       "      <td>MI</td>\n",
       "      <td>SF</td>\n",
       "      <td>49200</td>\n",
       "      <td>F99Q10000228</td>\n",
       "      <td>C</td>\n",
       "      <td>360</td>\n",
       "      <td>2</td>\n",
       "      <td>Other sellers</td>\n",
       "      <td>Other servicers</td>\n",
       "      <td>NaN</td>\n",
       "      <td>N</td>\n",
       "      <td>200112</td>\n",
       "      <td>0.00</td>\n",
       "      <td>0</td>\n",
       "      <td>32</td>\n",
       "      <td>328</td>\n",
       "      <td>1.0</td>\n",
       "      <td>200112.0</td>\n",
       "      <td>6.75</td>\n",
       "      <td>0.00</td>\n",
       "      <td>107139.16</td>\n",
       "      <td>0.00</td>\n",
       "      <td>0</td>\n",
       "      <td>0.01</td>\n",
       "    </tr>\n",
       "  </tbody>\n",
       "</table>\n",
       "</div>"
      ],
      "text/plain": [
       "   Credit_Score First_Payment_Date First_Time_Homebuyer_Flag Maturity_Date  \\\n",
       "0           618             200210                         N        202902   \n",
       "1           619             200303                         N        201802   \n",
       "2           515             200303                         N        202903   \n",
       "3           649             199904                         Y        202903   \n",
       "4           768             199905                         N        202904   \n",
       "\n",
       "  Metropolitan_Statistical_Area_(MSA)_Or_Metropolitan_Division  \\\n",
       "0                                            10420.0             \n",
       "1                                                0.0             \n",
       "2                                            12700.0             \n",
       "3                                            17820.0             \n",
       "4                                            12980.0             \n",
       "\n",
       "   Mortgage_Insurance_Percentage_(MI_%)  Number_of_Units Occupancy_Status  \\\n",
       "0                                 25.00                1                P   \n",
       "1                                  0.00                1                P   \n",
       "2                                  0.00                1                S   \n",
       "3                                  4.87                1                P   \n",
       "4                                  0.00                1                P   \n",
       "\n",
       "   Original_Combined_Loan-to-Value_(CLTV)  \\\n",
       "0                                   85.00   \n",
       "1                                   74.00   \n",
       "2                                   78.00   \n",
       "3                                   95.00   \n",
       "4                                   75.00   \n",
       "\n",
       "   Original_Debt-to-Income_(DTI)_Ratio  Original_UPB  \\\n",
       "0                                24.00     122000.00   \n",
       "1                                25.00     107000.00   \n",
       "2                                32.00     232000.00   \n",
       "3                                46.00     157000.00   \n",
       "4                                21.00     111000.00   \n",
       "\n",
       "   Original_Loan-to-Value_(LTV)  Original_Interest_Rate Channel  \\\n",
       "0                         85.00                    6.38       R   \n",
       "1                         74.00                    5.25       R   \n",
       "2                         78.00                    6.25       R   \n",
       "3                         95.00                    6.75       T   \n",
       "4                         75.00                    6.75       R   \n",
       "\n",
       "  Prepayment_Penalty_Mortgage_(PPM)_Flag Property_State Property_Type  \\\n",
       "0                                      N             OH            SF   \n",
       "1                                      N             OH            SF   \n",
       "2                                      N             MA            SF   \n",
       "3                                      N             CO            SF   \n",
       "4                                      N             MI            SF   \n",
       "\n",
       "  Postal_Code Loan_Sequence_Number Loan_Purpose  Original_Loan_Term  \\\n",
       "0       44200         F99Q10000029            N                 317   \n",
       "1       44600         F99Q10000064            N                 180   \n",
       "2        2600         F99Q10000070            P                 313   \n",
       "3       80900         F99Q10000170            P                 360   \n",
       "4       49200         F99Q10000228            C                 360   \n",
       "\n",
       "   Number_of_Borrowers    Seller_Name              Servicer_Name  \\\n",
       "0                    2  Other sellers            Other servicers   \n",
       "1                    2  Other sellers            Other servicers   \n",
       "2                    2  Other sellers            Other servicers   \n",
       "3                    1  Other sellers  GMAC MORTGAGE CORPORATION   \n",
       "4                    2  Other sellers            Other servicers   \n",
       "\n",
       "  HARP_Indicator Interest_Only_(I/O)_Indicator Monthly_Reporting_Period  \\\n",
       "0            NaN                             N                   200405   \n",
       "1            NaN                             N                   201307   \n",
       "2            NaN                             N                   200504   \n",
       "3            NaN                             N                   200207   \n",
       "4            NaN                             N                   200112   \n",
       "\n",
       "   Current_Actual_UPB Current_Loan_Delinquency_Status  Loan_Age  \\\n",
       "0                0.00                               0        20   \n",
       "1                0.00                               0       125   \n",
       "2                0.00                               0        26   \n",
       "3                0.00                              RA        40   \n",
       "4                0.00                               0        32   \n",
       "\n",
       "   Remaining_Months_to_Legal_Maturity Zero_Balance_Code  \\\n",
       "0                                 297               1.0   \n",
       "1                                  55               1.0   \n",
       "2                                 287               1.0   \n",
       "3                                 320               9.0   \n",
       "4                                 328               1.0   \n",
       "\n",
       "  Zero_Balance_Effective_Date  Current_Interest_Rate  Current_Deferred_UPB  \\\n",
       "0                    200405.0                   6.38                  0.00   \n",
       "1                    201307.0                   5.25                  0.00   \n",
       "2                    200504.0                   6.25                  0.00   \n",
       "3                    200207.0                   6.75                  0.00   \n",
       "4                    200112.0                   6.75                  0.00   \n",
       "\n",
       "   Zero_Balance_Removal_UPB  Interest_Bearing_UPB  default_status  \\\n",
       "0                 118803.96                  0.00               0   \n",
       "1                  41685.65                  0.00               0   \n",
       "2                  64345.87                  0.00               0   \n",
       "3                 151980.32                  0.00               1   \n",
       "4                 107139.16                  0.00               0   \n",
       "\n",
       "   bank_default_rate  \n",
       "0               0.01  \n",
       "1               0.01  \n",
       "2               0.01  \n",
       "3               0.01  \n",
       "4               0.01  "
      ]
     },
     "execution_count": 1350,
     "metadata": {},
     "output_type": "execute_result"
    }
   ],
   "source": [
    "df_loan = df_loan.merge(servicer_name_default_rate_df, how='left', right_index=True,left_on='Servicer_Name')\n",
    "df_loan.head()"
   ]
  },
  {
   "cell_type": "markdown",
   "metadata": {},
   "source": [
    "Exploring default rate aggregate stats by state."
   ]
  },
  {
   "cell_type": "code",
   "execution_count": 1351,
   "metadata": {},
   "outputs": [],
   "source": [
    "state_default_df=df_loan.groupby('Property_State')['default_status'].agg(['sum',no_defaults,'count']).rename(columns={'sum':'defaults'})\n",
    "state_default_df['state_default_rate']=((state_default_df['defaults']*1.0)/state_default_df['count'])\n",
    "state_default_df.head()\n",
    "state_default_rate_df=state_default_df[['state_default_rate']]"
   ]
  },
  {
   "cell_type": "code",
   "execution_count": 1352,
   "metadata": {},
   "outputs": [
    {
     "data": {
      "image/png": "[encoded data removed]",
      "text/plain": [
       "<Figure size 720x720 with 1 Axes>"
      ]
     },
     "metadata": {},
     "output_type": "display_data"
    }
   ],
   "source": [
    "(state_default_rate_df.reindex(index=state_default_rate_df['state_default_rate']\n",
    "    .sort_values(ascending=False)\n",
    "    .index)\n",
    "    .plot(kind='barh', figsize=(10, 10), title='Defaults by state'))\n",
    "plt.xlabel('Defaults');"
   ]
  },
  {
   "cell_type": "markdown",
   "metadata": {},
   "source": [
    "The maximum default rate appears to be above 0.025 for Nevada. The other states are below this rate with California in the low area of the spectrum with under 0.010 default rate (even though we previously observed that California has the maximum loans). It may be good to include this feature as well to inform the model."
   ]
  },
  {
   "cell_type": "code",
   "execution_count": 1353,
   "metadata": {},
   "outputs": [
    {
     "data": {
      "text/html": [
       "<div>\n",
       "<style scoped>\n",
       "    .dataframe tbody tr th:only-of-type {\n",
       "        vertical-align: middle;\n",
       "    }\n",
       "\n",
       "    .dataframe tbody tr th {\n",
       "        vertical-align: top;\n",
       "    }\n",
       "\n",
       "    .dataframe thead th {\n",
       "        text-align: right;\n",
       "    }\n",
       "</style>\n",
       "<table border=\"1\" class=\"dataframe\">\n",
       "  <thead>\n",
       "    <tr style=\"text-align: right;\">\n",
       "      <th></th>\n",
       "      <th>Credit_Score</th>\n",
       "      <th>First_Payment_Date</th>\n",
       "      <th>First_Time_Homebuyer_Flag</th>\n",
       "      <th>Maturity_Date</th>\n",
       "      <th>Metropolitan_Statistical_Area_(MSA)_Or_Metropolitan_Division</th>\n",
       "      <th>Mortgage_Insurance_Percentage_(MI_%)</th>\n",
       "      <th>Number_of_Units</th>\n",
       "      <th>Occupancy_Status</th>\n",
       "      <th>Original_Combined_Loan-to-Value_(CLTV)</th>\n",
       "      <th>Original_Debt-to-Income_(DTI)_Ratio</th>\n",
       "      <th>Original_UPB</th>\n",
       "      <th>Original_Loan-to-Value_(LTV)</th>\n",
       "      <th>Original_Interest_Rate</th>\n",
       "      <th>Channel</th>\n",
       "      <th>Prepayment_Penalty_Mortgage_(PPM)_Flag</th>\n",
       "      <th>Property_State</th>\n",
       "      <th>Property_Type</th>\n",
       "      <th>Postal_Code</th>\n",
       "      <th>Loan_Sequence_Number</th>\n",
       "      <th>Loan_Purpose</th>\n",
       "      <th>Original_Loan_Term</th>\n",
       "      <th>Number_of_Borrowers</th>\n",
       "      <th>Seller_Name</th>\n",
       "      <th>Servicer_Name</th>\n",
       "      <th>HARP_Indicator</th>\n",
       "      <th>Interest_Only_(I/O)_Indicator</th>\n",
       "      <th>Monthly_Reporting_Period</th>\n",
       "      <th>Current_Actual_UPB</th>\n",
       "      <th>Current_Loan_Delinquency_Status</th>\n",
       "      <th>Loan_Age</th>\n",
       "      <th>Remaining_Months_to_Legal_Maturity</th>\n",
       "      <th>Zero_Balance_Code</th>\n",
       "      <th>Zero_Balance_Effective_Date</th>\n",
       "      <th>Current_Interest_Rate</th>\n",
       "      <th>Current_Deferred_UPB</th>\n",
       "      <th>Zero_Balance_Removal_UPB</th>\n",
       "      <th>Interest_Bearing_UPB</th>\n",
       "      <th>default_status</th>\n",
       "      <th>bank_default_rate</th>\n",
       "      <th>state_default_rate</th>\n",
       "    </tr>\n",
       "  </thead>\n",
       "  <tbody>\n",
       "    <tr>\n",
       "      <th>0</th>\n",
       "      <td>618</td>\n",
       "      <td>200210</td>\n",
       "      <td>N</td>\n",
       "      <td>202902</td>\n",
       "      <td>10420.0</td>\n",
       "      <td>25.00</td>\n",
       "      <td>1</td>\n",
       "      <td>P</td>\n",
       "      <td>85.00</td>\n",
       "      <td>24.00</td>\n",
       "      <td>122000.00</td>\n",
       "      <td>85.00</td>\n",
       "      <td>6.38</td>\n",
       "      <td>R</td>\n",
       "      <td>N</td>\n",
       "      <td>OH</td>\n",
       "      <td>SF</td>\n",
       "      <td>44200</td>\n",
       "      <td>F99Q10000029</td>\n",
       "      <td>N</td>\n",
       "      <td>317</td>\n",
       "      <td>2</td>\n",
       "      <td>Other sellers</td>\n",
       "      <td>Other servicers</td>\n",
       "      <td>NaN</td>\n",
       "      <td>N</td>\n",
       "      <td>200405</td>\n",
       "      <td>0.00</td>\n",
       "      <td>0</td>\n",
       "      <td>20</td>\n",
       "      <td>297</td>\n",
       "      <td>1.0</td>\n",
       "      <td>200405.0</td>\n",
       "      <td>6.38</td>\n",
       "      <td>0.00</td>\n",
       "      <td>118803.96</td>\n",
       "      <td>0.00</td>\n",
       "      <td>0</td>\n",
       "      <td>0.01</td>\n",
       "      <td>0.02</td>\n",
       "    </tr>\n",
       "    <tr>\n",
       "      <th>1</th>\n",
       "      <td>619</td>\n",
       "      <td>200303</td>\n",
       "      <td>N</td>\n",
       "      <td>201802</td>\n",
       "      <td>0.0</td>\n",
       "      <td>0.00</td>\n",
       "      <td>1</td>\n",
       "      <td>P</td>\n",
       "      <td>74.00</td>\n",
       "      <td>25.00</td>\n",
       "      <td>107000.00</td>\n",
       "      <td>74.00</td>\n",
       "      <td>5.25</td>\n",
       "      <td>R</td>\n",
       "      <td>N</td>\n",
       "      <td>OH</td>\n",
       "      <td>SF</td>\n",
       "      <td>44600</td>\n",
       "      <td>F99Q10000064</td>\n",
       "      <td>N</td>\n",
       "      <td>180</td>\n",
       "      <td>2</td>\n",
       "      <td>Other sellers</td>\n",
       "      <td>Other servicers</td>\n",
       "      <td>NaN</td>\n",
       "      <td>N</td>\n",
       "      <td>201307</td>\n",
       "      <td>0.00</td>\n",
       "      <td>0</td>\n",
       "      <td>125</td>\n",
       "      <td>55</td>\n",
       "      <td>1.0</td>\n",
       "      <td>201307.0</td>\n",
       "      <td>5.25</td>\n",
       "      <td>0.00</td>\n",
       "      <td>41685.65</td>\n",
       "      <td>0.00</td>\n",
       "      <td>0</td>\n",
       "      <td>0.01</td>\n",
       "      <td>0.02</td>\n",
       "    </tr>\n",
       "    <tr>\n",
       "      <th>2</th>\n",
       "      <td>515</td>\n",
       "      <td>200303</td>\n",
       "      <td>N</td>\n",
       "      <td>202903</td>\n",
       "      <td>12700.0</td>\n",
       "      <td>0.00</td>\n",
       "      <td>1</td>\n",
       "      <td>S</td>\n",
       "      <td>78.00</td>\n",
       "      <td>32.00</td>\n",
       "      <td>232000.00</td>\n",
       "      <td>78.00</td>\n",
       "      <td>6.25</td>\n",
       "      <td>R</td>\n",
       "      <td>N</td>\n",
       "      <td>MA</td>\n",
       "      <td>SF</td>\n",
       "      <td>2600</td>\n",
       "      <td>F99Q10000070</td>\n",
       "      <td>P</td>\n",
       "      <td>313</td>\n",
       "      <td>2</td>\n",
       "      <td>Other sellers</td>\n",
       "      <td>Other servicers</td>\n",
       "      <td>NaN</td>\n",
       "      <td>N</td>\n",
       "      <td>200504</td>\n",
       "      <td>0.00</td>\n",
       "      <td>0</td>\n",
       "      <td>26</td>\n",
       "      <td>287</td>\n",
       "      <td>1.0</td>\n",
       "      <td>200504.0</td>\n",
       "      <td>6.25</td>\n",
       "      <td>0.00</td>\n",
       "      <td>64345.87</td>\n",
       "      <td>0.00</td>\n",
       "      <td>0</td>\n",
       "      <td>0.01</td>\n",
       "      <td>0.01</td>\n",
       "    </tr>\n",
       "    <tr>\n",
       "      <th>3</th>\n",
       "      <td>649</td>\n",
       "      <td>199904</td>\n",
       "      <td>Y</td>\n",
       "      <td>202903</td>\n",
       "      <td>17820.0</td>\n",
       "      <td>4.87</td>\n",
       "      <td>1</td>\n",
       "      <td>P</td>\n",
       "      <td>95.00</td>\n",
       "      <td>46.00</td>\n",
       "      <td>157000.00</td>\n",
       "      <td>95.00</td>\n",
       "      <td>6.75</td>\n",
       "      <td>T</td>\n",
       "      <td>N</td>\n",
       "      <td>CO</td>\n",
       "      <td>SF</td>\n",
       "      <td>80900</td>\n",
       "      <td>F99Q10000170</td>\n",
       "      <td>P</td>\n",
       "      <td>360</td>\n",
       "      <td>1</td>\n",
       "      <td>Other sellers</td>\n",
       "      <td>GMAC MORTGAGE CORPORATION</td>\n",
       "      <td>NaN</td>\n",
       "      <td>N</td>\n",
       "      <td>200207</td>\n",
       "      <td>0.00</td>\n",
       "      <td>RA</td>\n",
       "      <td>40</td>\n",
       "      <td>320</td>\n",
       "      <td>9.0</td>\n",
       "      <td>200207.0</td>\n",
       "      <td>6.75</td>\n",
       "      <td>0.00</td>\n",
       "      <td>151980.32</td>\n",
       "      <td>0.00</td>\n",
       "      <td>1</td>\n",
       "      <td>0.01</td>\n",
       "      <td>0.01</td>\n",
       "    </tr>\n",
       "    <tr>\n",
       "      <th>4</th>\n",
       "      <td>768</td>\n",
       "      <td>199905</td>\n",
       "      <td>N</td>\n",
       "      <td>202904</td>\n",
       "      <td>12980.0</td>\n",
       "      <td>0.00</td>\n",
       "      <td>1</td>\n",
       "      <td>P</td>\n",
       "      <td>75.00</td>\n",
       "      <td>21.00</td>\n",
       "      <td>111000.00</td>\n",
       "      <td>75.00</td>\n",
       "      <td>6.75</td>\n",
       "      <td>R</td>\n",
       "      <td>N</td>\n",
       "      <td>MI</td>\n",
       "      <td>SF</td>\n",
       "      <td>49200</td>\n",
       "      <td>F99Q10000228</td>\n",
       "      <td>C</td>\n",
       "      <td>360</td>\n",
       "      <td>2</td>\n",
       "      <td>Other sellers</td>\n",
       "      <td>Other servicers</td>\n",
       "      <td>NaN</td>\n",
       "      <td>N</td>\n",
       "      <td>200112</td>\n",
       "      <td>0.00</td>\n",
       "      <td>0</td>\n",
       "      <td>32</td>\n",
       "      <td>328</td>\n",
       "      <td>1.0</td>\n",
       "      <td>200112.0</td>\n",
       "      <td>6.75</td>\n",
       "      <td>0.00</td>\n",
       "      <td>107139.16</td>\n",
       "      <td>0.00</td>\n",
       "      <td>0</td>\n",
       "      <td>0.01</td>\n",
       "      <td>0.02</td>\n",
       "    </tr>\n",
       "  </tbody>\n",
       "</table>\n",
       "</div>"
      ],
      "text/plain": [
       "   Credit_Score First_Payment_Date First_Time_Homebuyer_Flag Maturity_Date  \\\n",
       "0           618             200210                         N        202902   \n",
       "1           619             200303                         N        201802   \n",
       "2           515             200303                         N        202903   \n",
       "3           649             199904                         Y        202903   \n",
       "4           768             199905                         N        202904   \n",
       "\n",
       "  Metropolitan_Statistical_Area_(MSA)_Or_Metropolitan_Division  \\\n",
       "0                                            10420.0             \n",
       "1                                                0.0             \n",
       "2                                            12700.0             \n",
       "3                                            17820.0             \n",
       "4                                            12980.0             \n",
       "\n",
       "   Mortgage_Insurance_Percentage_(MI_%)  Number_of_Units Occupancy_Status  \\\n",
       "0                                 25.00                1                P   \n",
       "1                                  0.00                1                P   \n",
       "2                                  0.00                1                S   \n",
       "3                                  4.87                1                P   \n",
       "4                                  0.00                1                P   \n",
       "\n",
       "   Original_Combined_Loan-to-Value_(CLTV)  \\\n",
       "0                                   85.00   \n",
       "1                                   74.00   \n",
       "2                                   78.00   \n",
       "3                                   95.00   \n",
       "4                                   75.00   \n",
       "\n",
       "   Original_Debt-to-Income_(DTI)_Ratio  Original_UPB  \\\n",
       "0                                24.00     122000.00   \n",
       "1                                25.00     107000.00   \n",
       "2                                32.00     232000.00   \n",
       "3                                46.00     157000.00   \n",
       "4                                21.00     111000.00   \n",
       "\n",
       "   Original_Loan-to-Value_(LTV)  Original_Interest_Rate Channel  \\\n",
       "0                         85.00                    6.38       R   \n",
       "1                         74.00                    5.25       R   \n",
       "2                         78.00                    6.25       R   \n",
       "3                         95.00                    6.75       T   \n",
       "4                         75.00                    6.75       R   \n",
       "\n",
       "  Prepayment_Penalty_Mortgage_(PPM)_Flag Property_State Property_Type  \\\n",
       "0                                      N             OH            SF   \n",
       "1                                      N             OH            SF   \n",
       "2                                      N             MA            SF   \n",
       "3                                      N             CO            SF   \n",
       "4                                      N             MI            SF   \n",
       "\n",
       "  Postal_Code Loan_Sequence_Number Loan_Purpose  Original_Loan_Term  \\\n",
       "0       44200         F99Q10000029            N                 317   \n",
       "1       44600         F99Q10000064            N                 180   \n",
       "2        2600         F99Q10000070            P                 313   \n",
       "3       80900         F99Q10000170            P                 360   \n",
       "4       49200         F99Q10000228            C                 360   \n",
       "\n",
       "   Number_of_Borrowers    Seller_Name              Servicer_Name  \\\n",
       "0                    2  Other sellers            Other servicers   \n",
       "1                    2  Other sellers            Other servicers   \n",
       "2                    2  Other sellers            Other servicers   \n",
       "3                    1  Other sellers  GMAC MORTGAGE CORPORATION   \n",
       "4                    2  Other sellers            Other servicers   \n",
       "\n",
       "  HARP_Indicator Interest_Only_(I/O)_Indicator Monthly_Reporting_Period  \\\n",
       "0            NaN                             N                   200405   \n",
       "1            NaN                             N                   201307   \n",
       "2            NaN                             N                   200504   \n",
       "3            NaN                             N                   200207   \n",
       "4            NaN                             N                   200112   \n",
       "\n",
       "   Current_Actual_UPB Current_Loan_Delinquency_Status  Loan_Age  \\\n",
       "0                0.00                               0        20   \n",
       "1                0.00                               0       125   \n",
       "2                0.00                               0        26   \n",
       "3                0.00                              RA        40   \n",
       "4                0.00                               0        32   \n",
       "\n",
       "   Remaining_Months_to_Legal_Maturity Zero_Balance_Code  \\\n",
       "0                                 297               1.0   \n",
       "1                                  55               1.0   \n",
       "2                                 287               1.0   \n",
       "3                                 320               9.0   \n",
       "4                                 328               1.0   \n",
       "\n",
       "  Zero_Balance_Effective_Date  Current_Interest_Rate  Current_Deferred_UPB  \\\n",
       "0                    200405.0                   6.38                  0.00   \n",
       "1                    201307.0                   5.25                  0.00   \n",
       "2                    200504.0                   6.25                  0.00   \n",
       "3                    200207.0                   6.75                  0.00   \n",
       "4                    200112.0                   6.75                  0.00   \n",
       "\n",
       "   Zero_Balance_Removal_UPB  Interest_Bearing_UPB  default_status  \\\n",
       "0                 118803.96                  0.00               0   \n",
       "1                  41685.65                  0.00               0   \n",
       "2                  64345.87                  0.00               0   \n",
       "3                 151980.32                  0.00               1   \n",
       "4                 107139.16                  0.00               0   \n",
       "\n",
       "   bank_default_rate  state_default_rate  \n",
       "0               0.01                0.02  \n",
       "1               0.01                0.02  \n",
       "2               0.01                0.01  \n",
       "3               0.01                0.01  \n",
       "4               0.01                0.02  "
      ]
     },
     "execution_count": 1353,
     "metadata": {},
     "output_type": "execute_result"
    }
   ],
   "source": [
    "df_loan = df_loan.merge(state_default_rate_df, how='left', right_index=True,left_on='Property_State')\n",
    "df_loan.head()"
   ]
  },
  {
   "cell_type": "code",
   "execution_count": 1354,
   "metadata": {
    "scrolled": true
   },
   "outputs": [
    {
     "data": {
      "text/plain": [
       "Credit_Score                                                          0\n",
       "First_Payment_Date                                                    0\n",
       "First_Time_Homebuyer_Flag                                             0\n",
       "Maturity_Date                                                         0\n",
       "Metropolitan_Statistical_Area_(MSA)_Or_Metropolitan_Division          0\n",
       "Mortgage_Insurance_Percentage_(MI_%)                                  0\n",
       "Number_of_Units                                                       0\n",
       "Occupancy_Status                                                      0\n",
       "Original_Combined_Loan-to-Value_(CLTV)                                0\n",
       "Original_Debt-to-Income_(DTI)_Ratio                                   0\n",
       "Original_UPB                                                          0\n",
       "Original_Loan-to-Value_(LTV)                                          0\n",
       "Original_Interest_Rate                                                0\n",
       "Channel                                                               0\n",
       "Prepayment_Penalty_Mortgage_(PPM)_Flag                                0\n",
       "Property_State                                                        0\n",
       "Property_Type                                                         0\n",
       "Postal_Code                                                           0\n",
       "Loan_Sequence_Number                                                  0\n",
       "Loan_Purpose                                                          0\n",
       "Original_Loan_Term                                                    0\n",
       "Number_of_Borrowers                                                   0\n",
       "Seller_Name                                                           0\n",
       "Servicer_Name                                                         0\n",
       "HARP_Indicator                                                  1141219\n",
       "Interest_Only_(I/O)_Indicator                                         0\n",
       "Monthly_Reporting_Period                                              0\n",
       "Current_Actual_UPB                                                    0\n",
       "Current_Loan_Delinquency_Status                                       0\n",
       "Loan_Age                                                              0\n",
       "Remaining_Months_to_Legal_Maturity                                    0\n",
       "Zero_Balance_Code                                                287376\n",
       "Zero_Balance_Effective_Date                                      287377\n",
       "Current_Interest_Rate                                                 0\n",
       "Current_Deferred_UPB                                                  0\n",
       "Zero_Balance_Removal_UPB                                         287376\n",
       "Interest_Bearing_UPB                                                  0\n",
       "default_status                                                        0\n",
       "bank_default_rate                                                     0\n",
       "state_default_rate                                                    0\n",
       "dtype: int64"
      ]
     },
     "execution_count": 1354,
     "metadata": {},
     "output_type": "execute_result"
    }
   ],
   "source": [
    "df_loan.isna().sum()"
   ]
  },
  {
   "cell_type": "markdown",
   "metadata": {},
   "source": [
    "The information provided by the columns with high null values have already been considered. The zero balance code related columns have been used to compute default status and hence can be dropped. The HARP indicator column was used to compute the Original Debt to income ratio and hence can be dropped as well. "
   ]
  },
  {
   "cell_type": "markdown",
   "metadata": {},
   "source": [
    "TBD Will drop these columns in the modeling pipeline."
   ]
  },
  {
   "cell_type": "code",
   "execution_count": 1355,
   "metadata": {},
   "outputs": [
    {
     "data": {
      "text/plain": [
       "N    1223553\n",
       "Y       1447\n",
       "Name: Prepayment_Penalty_Mortgage_(PPM)_Flag, dtype: int64"
      ]
     },
     "execution_count": 1355,
     "metadata": {},
     "output_type": "execute_result"
    }
   ],
   "source": [
    "df_loan['Prepayment_Penalty_Mortgage_(PPM)_Flag'].value_counts()"
   ]
  },
  {
   "cell_type": "code",
   "execution_count": 1356,
   "metadata": {},
   "outputs": [
    {
     "data": {
      "text/plain": [
       "P    1102100\n",
       "I      74715\n",
       "S      48185\n",
       "Name: Occupancy_Status, dtype: int64"
      ]
     },
     "execution_count": 1356,
     "metadata": {},
     "output_type": "execute_result"
    }
   ],
   "source": [
    "df_loan['Occupancy_Status'].value_counts()"
   ]
  },
  {
   "cell_type": "code",
   "execution_count": 1357,
   "metadata": {},
   "outputs": [
    {
     "data": {
      "text/plain": [
       "P    500612\n",
       "N    422557\n",
       "C    301831\n",
       "Name: Loan_Purpose, dtype: int64"
      ]
     },
     "execution_count": 1357,
     "metadata": {},
     "output_type": "execute_result"
    }
   ],
   "source": [
    "df_loan['Loan_Purpose'].value_counts()"
   ]
  },
  {
   "cell_type": "code",
   "execution_count": 1358,
   "metadata": {},
   "outputs": [
    {
     "data": {
      "text/plain": [
       "SF    883595\n",
       "PU    242521\n",
       "CO     89285\n",
       "MH      7038\n",
       "CP      2561\n",
       "Name: Property_Type, dtype: int64"
      ]
     },
     "execution_count": 1358,
     "metadata": {},
     "output_type": "execute_result"
    }
   ],
   "source": [
    "df_loan['Property_Type'].value_counts()"
   ]
  },
  {
   "cell_type": "markdown",
   "metadata": {},
   "source": [
    "## 3.6 Numeric data<a id='3.6_Numeric_data'></a>"
   ]
  },
  {
   "cell_type": "code",
   "execution_count": 1359,
   "metadata": {},
   "outputs": [],
   "source": [
    "df_loan_mod=df_loan._get_numeric_data()"
   ]
  },
  {
   "cell_type": "code",
   "execution_count": 1360,
   "metadata": {},
   "outputs": [
    {
     "data": {
      "text/plain": [
       "{'whiskers': [<matplotlib.lines.Line2D at 0x19070e48a90>,\n",
       "  <matplotlib.lines.Line2D at 0x19070e48d30>],\n",
       " 'caps': [<matplotlib.lines.Line2D at 0x19070e58048>,\n",
       "  <matplotlib.lines.Line2D at 0x19070e58320>],\n",
       " 'boxes': [<matplotlib.lines.Line2D at 0x19070e48828>],\n",
       " 'medians': [<matplotlib.lines.Line2D at 0x19070e585f8>],\n",
       " 'fliers': [<matplotlib.lines.Line2D at 0x19070e588d0>],\n",
       " 'means': []}"
      ]
     },
     "execution_count": 1360,
     "metadata": {},
     "output_type": "execute_result"
    },
    {
     "data": {
      "image/png": "[encoded data removed]",
      "text/plain": [
       "<Figure size 432x288 with 1 Axes>"
      ]
     },
     "metadata": {},
     "output_type": "display_data"
    }
   ],
   "source": [
    "plt.boxplot(df_loan_mod[df_loan_mod['default_status']==0]['Credit_Score'])"
   ]
  },
  {
   "cell_type": "code",
   "execution_count": 1361,
   "metadata": {},
   "outputs": [
    {
     "data": {
      "text/plain": [
       "{'whiskers': [<matplotlib.lines.Line2D at 0x19070ea7f28>,\n",
       "  <matplotlib.lines.Line2D at 0x19070eb7208>],\n",
       " 'caps': [<matplotlib.lines.Line2D at 0x19070eb74e0>,\n",
       "  <matplotlib.lines.Line2D at 0x19070eb77b8>],\n",
       " 'boxes': [<matplotlib.lines.Line2D at 0x19070ea7cc0>],\n",
       " 'medians': [<matplotlib.lines.Line2D at 0x19070eb7a90>],\n",
       " 'fliers': [<matplotlib.lines.Line2D at 0x19070eb7d68>],\n",
       " 'means': []}"
      ]
     },
     "execution_count": 1361,
     "metadata": {},
     "output_type": "execute_result"
    },
    {
     "data": {
      "image/png": "[encoded data removed]",
      "text/plain": [
       "<Figure size 432x288 with 1 Axes>"
      ]
     },
     "metadata": {},
     "output_type": "display_data"
    }
   ],
   "source": [
    "plt.boxplot(df_loan_mod[df_loan_mod['default_status']==0]['Original_Combined_Loan-to-Value_(CLTV)'])"
   ]
  },
  {
   "cell_type": "code",
   "execution_count": 1362,
   "metadata": {},
   "outputs": [
    {
     "data": {
      "text/plain": [
       "{'whiskers': [<matplotlib.lines.Line2D at 0x19070f13828>,\n",
       "  <matplotlib.lines.Line2D at 0x19070f13ac8>],\n",
       " 'caps': [<matplotlib.lines.Line2D at 0x19070f13da0>,\n",
       "  <matplotlib.lines.Line2D at 0x19070f230b8>],\n",
       " 'boxes': [<matplotlib.lines.Line2D at 0x19070f135c0>],\n",
       " 'medians': [<matplotlib.lines.Line2D at 0x19070f23390>],\n",
       " 'fliers': [<matplotlib.lines.Line2D at 0x19070f23668>],\n",
       " 'means': []}"
      ]
     },
     "execution_count": 1362,
     "metadata": {},
     "output_type": "execute_result"
    },
    {
     "data": {
      "image/png": "[encoded data removed]",
      "text/plain": [
       "<Figure size 432x288 with 1 Axes>"
      ]
     },
     "metadata": {},
     "output_type": "display_data"
    }
   ],
   "source": [
    "plt.boxplot(df_loan_mod[df_loan_mod['default_status']==0]['Original_Debt-to-Income_(DTI)_Ratio'])"
   ]
  },
  {
   "cell_type": "code",
   "execution_count": 1363,
   "metadata": {},
   "outputs": [
    {
     "data": {
      "text/plain": [
       "{'whiskers': [<matplotlib.lines.Line2D at 0x19070f7d630>,\n",
       "  <matplotlib.lines.Line2D at 0x19070f7d8d0>],\n",
       " 'caps': [<matplotlib.lines.Line2D at 0x19070f7dba8>,\n",
       "  <matplotlib.lines.Line2D at 0x19070f7de80>],\n",
       " 'boxes': [<matplotlib.lines.Line2D at 0x19070f7d3c8>],\n",
       " 'medians': [<matplotlib.lines.Line2D at 0x19070f8b198>],\n",
       " 'fliers': [<matplotlib.lines.Line2D at 0x19070f8b470>],\n",
       " 'means': []}"
      ]
     },
     "execution_count": 1363,
     "metadata": {},
     "output_type": "execute_result"
    },
    {
     "data": {
      "image/png": "[encoded data removed]",
      "text/plain": [
       "<Figure size 432x288 with 1 Axes>"
      ]
     },
     "metadata": {},
     "output_type": "display_data"
    }
   ],
   "source": [
    "plt.boxplot(df_loan_mod[df_loan_mod['default_status']==0]['Original_Loan-to-Value_(LTV)'])"
   ]
  },
  {
   "cell_type": "code",
   "execution_count": 1364,
   "metadata": {},
   "outputs": [
    {
     "data": {
      "text/plain": [
       "{'whiskers': [<matplotlib.lines.Line2D at 0x19070fdc978>,\n",
       "  <matplotlib.lines.Line2D at 0x19070fdcc18>],\n",
       " 'caps': [<matplotlib.lines.Line2D at 0x19070fdcef0>,\n",
       "  <matplotlib.lines.Line2D at 0x19070fee208>],\n",
       " 'boxes': [<matplotlib.lines.Line2D at 0x19070fdc710>],\n",
       " 'medians': [<matplotlib.lines.Line2D at 0x19070fee4e0>],\n",
       " 'fliers': [<matplotlib.lines.Line2D at 0x19070fee7b8>],\n",
       " 'means': []}"
      ]
     },
     "execution_count": 1364,
     "metadata": {},
     "output_type": "execute_result"
    },
    {
     "data": {
      "image/png": "[encoded data removed]",
      "text/plain": [
       "<Figure size 432x288 with 1 Axes>"
      ]
     },
     "metadata": {},
     "output_type": "display_data"
    }
   ],
   "source": [
    "plt.boxplot(df_loan_mod[df_loan_mod['default_status']==0]['Original_Interest_Rate'])"
   ]
  },
  {
   "cell_type": "code",
   "execution_count": 1365,
   "metadata": {},
   "outputs": [
    {
     "data": {
      "text/plain": [
       "{'whiskers': [<matplotlib.lines.Line2D at 0x1907104c160>,\n",
       "  <matplotlib.lines.Line2D at 0x1907104c400>],\n",
       " 'caps': [<matplotlib.lines.Line2D at 0x1907104c6d8>,\n",
       "  <matplotlib.lines.Line2D at 0x1907104c9b0>],\n",
       " 'boxes': [<matplotlib.lines.Line2D at 0x1907103ceb8>],\n",
       " 'medians': [<matplotlib.lines.Line2D at 0x1907104cc88>],\n",
       " 'fliers': [<matplotlib.lines.Line2D at 0x1907104cf60>],\n",
       " 'means': []}"
      ]
     },
     "execution_count": 1365,
     "metadata": {},
     "output_type": "execute_result"
    },
    {
     "data": {
      "image/png": "[encoded data removed]",
      "text/plain": [
       "<Figure size 432x288 with 1 Axes>"
      ]
     },
     "metadata": {},
     "output_type": "display_data"
    }
   ],
   "source": [
    "plt.boxplot(df_loan_mod[df_loan_mod['default_status']==0]['Current_Interest_Rate'])"
   ]
  },
  {
   "cell_type": "code",
   "execution_count": 1366,
   "metadata": {},
   "outputs": [
    {
     "data": {
      "text/plain": [
       "{'whiskers': [<matplotlib.lines.Line2D at 0x190710aa8d0>,\n",
       "  <matplotlib.lines.Line2D at 0x190710aab70>],\n",
       " 'caps': [<matplotlib.lines.Line2D at 0x190710aae48>,\n",
       "  <matplotlib.lines.Line2D at 0x190710b9160>],\n",
       " 'boxes': [<matplotlib.lines.Line2D at 0x190710aa668>],\n",
       " 'medians': [<matplotlib.lines.Line2D at 0x190710b9438>],\n",
       " 'fliers': [<matplotlib.lines.Line2D at 0x190710b9710>],\n",
       " 'means': []}"
      ]
     },
     "execution_count": 1366,
     "metadata": {},
     "output_type": "execute_result"
    },
    {
     "data": {
      "image/png": "[encoded data removed]",
      "text/plain": [
       "<Figure size 432x288 with 1 Axes>"
      ]
     },
     "metadata": {},
     "output_type": "display_data"
    }
   ],
   "source": [
    "plt.boxplot(df_loan_mod[df_loan_mod['default_status']==0]['Original_UPB'])"
   ]
  },
  {
   "cell_type": "code",
   "execution_count": 1367,
   "metadata": {},
   "outputs": [
    {
     "data": {
      "text/plain": [
       "{'whiskers': [<matplotlib.lines.Line2D at 0x19071111ba8>,\n",
       "  <matplotlib.lines.Line2D at 0x19071111e48>],\n",
       " 'caps': [<matplotlib.lines.Line2D at 0x19071120160>,\n",
       "  <matplotlib.lines.Line2D at 0x19071120438>],\n",
       " 'boxes': [<matplotlib.lines.Line2D at 0x19071111940>],\n",
       " 'medians': [<matplotlib.lines.Line2D at 0x19071120710>],\n",
       " 'fliers': [<matplotlib.lines.Line2D at 0x190711209e8>],\n",
       " 'means': []}"
      ]
     },
     "execution_count": 1367,
     "metadata": {},
     "output_type": "execute_result"
    },
    {
     "data": {
      "image/png": "[encoded data removed]",
      "text/plain": [
       "<Figure size 432x288 with 1 Axes>"
      ]
     },
     "metadata": {},
     "output_type": "display_data"
    }
   ],
   "source": [
    "plt.boxplot(df_loan_mod[df_loan_mod['default_status']==0]['bank_default_rate'])"
   ]
  },
  {
   "cell_type": "code",
   "execution_count": 1368,
   "metadata": {},
   "outputs": [
    {
     "data": {
      "text/plain": [
       "{'whiskers': [<matplotlib.lines.Line2D at 0x1907117e470>,\n",
       "  <matplotlib.lines.Line2D at 0x1907117e710>],\n",
       " 'caps': [<matplotlib.lines.Line2D at 0x1907117e9e8>,\n",
       "  <matplotlib.lines.Line2D at 0x1907117ecc0>],\n",
       " 'boxes': [<matplotlib.lines.Line2D at 0x1907117e208>],\n",
       " 'medians': [<matplotlib.lines.Line2D at 0x1907117ef98>],\n",
       " 'fliers': [<matplotlib.lines.Line2D at 0x1907118e2b0>],\n",
       " 'means': []}"
      ]
     },
     "execution_count": 1368,
     "metadata": {},
     "output_type": "execute_result"
    },
    {
     "data": {
      "image/png": "[encoded data removed]",
      "text/plain": [
       "<Figure size 432x288 with 1 Axes>"
      ]
     },
     "metadata": {},
     "output_type": "display_data"
    }
   ],
   "source": [
    "plt.boxplot(df_loan_mod[df_loan_mod['default_status']==0]['state_default_rate'])"
   ]
  },
  {
   "cell_type": "markdown",
   "metadata": {},
   "source": [
    "Default column."
   ]
  },
  {
   "cell_type": "code",
   "execution_count": 1369,
   "metadata": {},
   "outputs": [
    {
     "data": {
      "text/plain": [
       "{'whiskers': [<matplotlib.lines.Line2D at 0x190715f0358>,\n",
       "  <matplotlib.lines.Line2D at 0x190715f05f8>],\n",
       " 'caps': [<matplotlib.lines.Line2D at 0x190715f08d0>,\n",
       "  <matplotlib.lines.Line2D at 0x190715f0ba8>],\n",
       " 'boxes': [<matplotlib.lines.Line2D at 0x190715f00f0>],\n",
       " 'medians': [<matplotlib.lines.Line2D at 0x190715f0e80>],\n",
       " 'fliers': [<matplotlib.lines.Line2D at 0x190715fe198>],\n",
       " 'means': []}"
      ]
     },
     "execution_count": 1369,
     "metadata": {},
     "output_type": "execute_result"
    },
    {
     "data": {
      "image/png": "[encoded data removed]",
      "text/plain": [
       "<Figure size 432x288 with 1 Axes>"
      ]
     },
     "metadata": {},
     "output_type": "display_data"
    }
   ],
   "source": [
    "plt.boxplot(df_loan_mod[df_loan_mod['default_status']==1]['Original_Combined_Loan-to-Value_(CLTV)'])"
   ]
  },
  {
   "cell_type": "code",
   "execution_count": 1370,
   "metadata": {},
   "outputs": [
    {
     "data": {
      "text/plain": [
       "{'whiskers': [<matplotlib.lines.Line2D at 0x1907165b0b8>,\n",
       "  <matplotlib.lines.Line2D at 0x1907165b358>],\n",
       " 'caps': [<matplotlib.lines.Line2D at 0x1907165b630>,\n",
       "  <matplotlib.lines.Line2D at 0x1907165b908>],\n",
       " 'boxes': [<matplotlib.lines.Line2D at 0x19071649e10>],\n",
       " 'medians': [<matplotlib.lines.Line2D at 0x1907165bbe0>],\n",
       " 'fliers': [<matplotlib.lines.Line2D at 0x1907165beb8>],\n",
       " 'means': []}"
      ]
     },
     "execution_count": 1370,
     "metadata": {},
     "output_type": "execute_result"
    },
    {
     "data": {
      "image/png": "[encoded data removed]",
      "text/plain": [
       "<Figure size 432x288 with 1 Axes>"
      ]
     },
     "metadata": {},
     "output_type": "display_data"
    }
   ],
   "source": [
    "plt.boxplot(df_loan_mod[df_loan_mod['default_status']==1]['Original_Debt-to-Income_(DTI)_Ratio'])"
   ]
  },
  {
   "cell_type": "code",
   "execution_count": 1371,
   "metadata": {},
   "outputs": [
    {
     "data": {
      "text/plain": [
       "{'whiskers': [<matplotlib.lines.Line2D at 0x190716b6dd8>,\n",
       "  <matplotlib.lines.Line2D at 0x190716c70b8>],\n",
       " 'caps': [<matplotlib.lines.Line2D at 0x190716c7390>,\n",
       "  <matplotlib.lines.Line2D at 0x190716c7668>],\n",
       " 'boxes': [<matplotlib.lines.Line2D at 0x190716b6b70>],\n",
       " 'medians': [<matplotlib.lines.Line2D at 0x190716c7940>],\n",
       " 'fliers': [<matplotlib.lines.Line2D at 0x190716c7c18>],\n",
       " 'means': []}"
      ]
     },
     "execution_count": 1371,
     "metadata": {},
     "output_type": "execute_result"
    },
    {
     "data": {
      "image/png": "[encoded data removed]",
      "text/plain": [
       "<Figure size 432x288 with 1 Axes>"
      ]
     },
     "metadata": {},
     "output_type": "display_data"
    }
   ],
   "source": [
    "plt.boxplot(df_loan_mod[df_loan_mod['default_status']==1]['Original_Loan-to-Value_(LTV)'])"
   ]
  },
  {
   "cell_type": "code",
   "execution_count": 1372,
   "metadata": {},
   "outputs": [
    {
     "data": {
      "text/plain": [
       "{'whiskers': [<matplotlib.lines.Line2D at 0x19071720b00>,\n",
       "  <matplotlib.lines.Line2D at 0x19071720da0>],\n",
       " 'caps': [<matplotlib.lines.Line2D at 0x190717300b8>,\n",
       "  <matplotlib.lines.Line2D at 0x19071730390>],\n",
       " 'boxes': [<matplotlib.lines.Line2D at 0x19071720898>],\n",
       " 'medians': [<matplotlib.lines.Line2D at 0x19071730668>],\n",
       " 'fliers': [<matplotlib.lines.Line2D at 0x19071730940>],\n",
       " 'means': []}"
      ]
     },
     "execution_count": 1372,
     "metadata": {},
     "output_type": "execute_result"
    },
    {
     "data": {
      "image/png": "[encoded data removed]",
      "text/plain": [
       "<Figure size 432x288 with 1 Axes>"
      ]
     },
     "metadata": {},
     "output_type": "display_data"
    }
   ],
   "source": [
    "plt.boxplot(df_loan_mod[df_loan_mod['default_status']==1]['Original_Interest_Rate'])"
   ]
  },
  {
   "cell_type": "code",
   "execution_count": 1373,
   "metadata": {},
   "outputs": [
    {
     "data": {
      "text/plain": [
       "{'whiskers': [<matplotlib.lines.Line2D at 0x19071783940>,\n",
       "  <matplotlib.lines.Line2D at 0x19071783be0>],\n",
       " 'caps': [<matplotlib.lines.Line2D at 0x19071783eb8>,\n",
       "  <matplotlib.lines.Line2D at 0x190717921d0>],\n",
       " 'boxes': [<matplotlib.lines.Line2D at 0x190717836d8>],\n",
       " 'medians': [<matplotlib.lines.Line2D at 0x190717924a8>],\n",
       " 'fliers': [<matplotlib.lines.Line2D at 0x19071792780>],\n",
       " 'means': []}"
      ]
     },
     "execution_count": 1373,
     "metadata": {},
     "output_type": "execute_result"
    },
    {
     "data": {
      "image/png": "[encoded data removed]",
      "text/plain": [
       "<Figure size 432x288 with 1 Axes>"
      ]
     },
     "metadata": {},
     "output_type": "display_data"
    }
   ],
   "source": [
    "plt.boxplot(df_loan_mod[df_loan_mod['default_status']==1]['Current_Interest_Rate'])"
   ]
  },
  {
   "cell_type": "markdown",
   "metadata": {},
   "source": [
    "The above boxplots all have outliers. These will be looked into further during model preprocessing."
   ]
  },
  {
   "cell_type": "markdown",
   "metadata": {},
   "source": [
    "### 3.6.1 Correlation Plots<a id='3.6.1_Correlation_Plots'></a>"
   ]
  },
  {
   "cell_type": "code",
   "execution_count": 1374,
   "metadata": {},
   "outputs": [
    {
     "data": {
      "text/plain": [
       "<AxesSubplot:>"
      ]
     },
     "execution_count": 1374,
     "metadata": {},
     "output_type": "execute_result"
    },
    {
     "data": {
      "image/png": "[encoded data removed]",
      "text/plain": [
       "<Figure size 432x288 with 2 Axes>"
      ]
     },
     "metadata": {},
     "output_type": "display_data"
    }
   ],
   "source": [
    "sns.heatmap(df_loan_mod.corr(),cmap=\"YlGnBu\")"
   ]
  },
  {
   "cell_type": "markdown",
   "metadata": {},
   "source": [
    "There is some high cross correlation between variables like Original UPB, Interest Bearing UPB, Zero Balance Removal, and Current Actual UPB. We also have high cross correlation between CLTV, LTV, and Mortgage Insurance percentage. The exclusion of highly correlated variables will be looked into further during model preprocessing. "
   ]
  },
  {
   "cell_type": "markdown",
   "metadata": {},
   "source": [
    "## 3.6 Save Processed File<a id='3.6_Save_Processed_File'></a>"
   ]
  },
  {
   "cell_type": "code",
   "execution_count": 1375,
   "metadata": {},
   "outputs": [],
   "source": [
    "df_loan_mod.to_csv('../data/processed/df_loan_preprocessed.txt',sep=\"|\")"
   ]
  }
 ],
 "metadata": {
  "kernelspec": {
   "display_name": "Python 3",
   "language": "python",
   "name": "python3"
  },
  "language_info": {
   "codemirror_mode": {
    "name": "ipython",
    "version": 3
   },
   "file_extension": ".py",
   "mimetype": "text/x-python",
   "name": "python",
   "nbconvert_exporter": "python",
   "pygments_lexer": "ipython3",
   "version": "3.6.5"
  }
 },
 "nbformat": 4,
 "nbformat_minor": 2
}
